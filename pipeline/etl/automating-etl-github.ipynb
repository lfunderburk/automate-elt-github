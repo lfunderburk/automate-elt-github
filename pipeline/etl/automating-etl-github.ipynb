{
 "cells": [
  {
   "cell_type": "markdown",
   "id": "22980ad7-3bf7-42fb-85e5-7b98ed0fdb9b",
   "metadata": {
    "editable": true,
    "slideshow": {
     "slide_type": "slide"
    },
    "tags": []
   },
   "source": [
    "<h1 align='center'>Automating ELT with GitHub actions</h1>\n",
    "\n",
    "<h4 align='center'>Laura G. Funderburk </h4>\n",
    "\n"
   ]
  },
  {
   "cell_type": "markdown",
   "id": "b86ba80c-2ff6-4163-8a80-841b57a6914a",
   "metadata": {
    "editable": true,
    "slideshow": {
     "slide_type": "slide"
    },
    "tags": []
   },
   "source": [
    "<h2 align='center'>Workshop structure</h2>\n",
    "\n",
    "* Introductions\n",
    "* **Section 1**: Introduction to ELT  (30 minutes)\n",
    "* **Section 2**: Data extraction, wrangling and loading with SQL and DuckDB (30 minutes)\n",
    "* *Short Break* (15 minutes)\n",
    "* **Section 3**: Introduction to GitHub actions (30 minutes)\n",
    "* **Section 4**: CI/CD of ETL Processes with GitHub Actions (15 minutes)\n",
    "* **Section 5**: Deploying your ETL/ELT pipeline to Amazon Redshift (15 minutes)\n",
    "\n",
    "* **Conclusion and Q&A** "
   ]
  },
  {
   "cell_type": "markdown",
   "id": "7128d61b-85d5-4908-ba86-b456ba426d52",
   "metadata": {
    "editable": true,
    "slideshow": {
     "slide_type": "slide"
    },
    "tags": []
   },
   "source": [
    "<h3 align='center'> Tools we'll be working with throughout this workshop</h3>\n",
    "\n",
    "* **Database flavours**: DuckDB and Amazon Redshift\n",
    "* **EDA tools**: Jupyter notebooks and JupySQL\n",
    "* **Pipeline design and orchestration**: YAML files and Ploomber\n",
    "* **Continuous Integration and Continuous Deployment (CI/CD)**: we will introduce how to set GitHub actions, and how to structure them.\n",
    "  \n",
    "**You can modify the steps above to work with your preferred DB flavours and pipeline orchestration methods**\n"
   ]
  },
  {
   "cell_type": "markdown",
   "id": "7f0218b1-e486-4791-b09c-65212223fb6d",
   "metadata": {
    "editable": true,
    "slideshow": {
     "slide_type": "slide"
    },
    "tags": []
   },
   "source": [
    "<h3 align='center'>The pipeline we will develop today</h3>\n",
    "\n",
    "\n",
    "![](images/etl-diagram.jpg)"
   ]
  },
  {
   "cell_type": "markdown",
   "id": "8c40177c-d5a9-43ec-9295-a2556b8de75f",
   "metadata": {
    "editable": true,
    "slideshow": {
     "slide_type": "slide"
    },
    "tags": []
   },
   "source": [
    "<h2 align='center'>About me</h2>\n",
    "\n",
    "I work as a developer advocate for Ploomber. I have over three years of full time working experience as a data scientist in a variety of settings including the academic, private and the NGO sectors. I completed my B.Sc. Mathematics at SFU. In 2019, my Alma Mater awarded me a Terry Fox gold medal.\n",
    "\n",
    "In my spare time, I train Brazilian Jiu-jitsu and I enjoy competing in regional tournaments. "
   ]
  },
  {
   "cell_type": "markdown",
   "id": "157a8c97-b037-4b22-9330-501b64c03983",
   "metadata": {
    "editable": true,
    "slideshow": {
     "slide_type": "slide"
    },
    "tags": []
   },
   "source": [
    "<h2 align='center'>Section 1: Introduction to ELT </h2>"
   ]
  },
  {
   "cell_type": "markdown",
   "id": "dfe52f0e-9009-4896-bec9-7f5e621bc3b5",
   "metadata": {
    "editable": true,
    "slideshow": {
     "slide_type": "slide"
    },
    "tags": []
   },
   "source": [
    "<h3 align='center'>What is ELT?</h3>\n",
    "\n",
    "ETL stands for **Extraction, Loading and Transformation**. \n",
    "\n",
    "* You extract raw data from various sources\n",
    "* You load it in its natural state into a data warehouse or data lake\n",
    "* You transform it as needed while in the target system\n",
    "\n",
    "With ELT, all data cleansing, transformation, and enrichment occur within the data warehouse. You can interact with and transform the raw data as many times as needed."
   ]
  },
  {
   "cell_type": "markdown",
   "id": "9105eb36-c384-40ad-b230-84c7e0b34c8f",
   "metadata": {
    "editable": true,
    "slideshow": {
     "slide_type": "slide"
    },
    "tags": []
   },
   "source": [
    "<h3 align='center'> Why is ETL Important?</h3>\n",
    "\n",
    "ETL processes are crucial for data analytics and business intelligence. They ensure that data is accurate, consistent, and available in a timely manner for analysis.\n"
   ]
  },
  {
   "cell_type": "markdown",
   "id": "888946d9-7c64-4a9e-99ed-365a6afe85ab",
   "metadata": {
    "editable": true,
    "slideshow": {
     "slide_type": "slide"
    },
    "tags": []
   },
   "source": [
    "<h3 align='center'> ELT vs ETL</h3>\n",
    "\n",
    "Extract, transform, and load (ETL) and extract, load, and transform (ELT) are two data-processing approaches for analytics.\n",
    "\n",
    "The ETL approach uses a set of business rules to process data from several sources before centralized integration. \n",
    "\n",
    "The ELT approach loads data as it is and transforms it at a later stage, depending on the use case and analytics requirements. \n"
   ]
  },
  {
   "cell_type": "markdown",
   "id": "1d8a5bd0-e943-4943-ad3b-86bd233d835c",
   "metadata": {
    "editable": true,
    "slideshow": {
     "slide_type": "slide"
    },
    "tags": []
   },
   "source": [
    "<h3 align='center'> Overview of JupySQL</h3>\n",
    "\n",
    "JupySQL is a Jupyter extension designed to make SQL-based ETL processes seamless within Jupyter notebooks. With JupySQL, you can:\n",
    "\n",
    "- Execute SQL queries directly from your Jupyter notebook.\n",
    "- Integrate SQL results with Python code and libraries like Pandas.\n",
    "- Visualize SQL query results using Jupyter's rich display capabilities.\n"
   ]
  },
  {
   "cell_type": "markdown",
   "id": "e9ef2608-fedb-44d0-8cdf-b9d910e8a627",
   "metadata": {
    "editable": true,
    "slideshow": {
     "slide_type": "slide"
    },
    "tags": []
   },
   "source": [
    "<h3 align='center'>  Benefits of JupySQL</h3>\n",
    "\n",
    "- **Simplicity**: No need to switch between SQL tools and Jupyter. Everything can be done in one place.\n",
    "- **Flexibility**: Combine the power of SQL with Python's data manipulation capabilities.\n",
    "- **Compatibility**: JupySQL is compatible with all major databases (e.g., PostgreSQL, MySQL, SQL Server), data warehouses (e.g., Snowflake, BigQuery, Redshift), and embedded engines (SQLite, and DuckDB).\n"
   ]
  },
  {
   "cell_type": "markdown",
   "id": "f18437c6-7763-44c3-aa61-daee92e9a430",
   "metadata": {
    "editable": true,
    "slideshow": {
     "slide_type": "slide"
    },
    "tags": []
   },
   "source": [
    "<h3 align='center'> Overview of DuckDB</h3>\n",
    "\n",
    "DuckDB is a free, open-source, embedded, in-process, relational, OnLine Analytical Processing (OLAP) DataBase Management System (DBMS). \n",
    "\n",
    "**DBMS features are running from within the application you’re trying to access from** instead of an external process your application connects to.\n",
    "\n",
    "**OLAP** means the database is designed for data analysis.\n",
    "\n",
    "\n"
   ]
  },
  {
   "cell_type": "markdown",
   "id": "9f4a9322-3146-4711-a97c-0c654e96944d",
   "metadata": {
    "editable": true,
    "slideshow": {
     "slide_type": "slide"
    },
    "tags": []
   },
   "source": [
    "<h3 align='center'> Overview of Amazon Redshift</h3>\n",
    "\n",
    "AWS Redshift is a cloud-based petabyte-scale data warehouse service offered as one of Amazon's ecosystem of data solutions.\n",
    "\n",
    "It is a relational database management system (RDBMS) and a type of OLAP database system."
   ]
  },
  {
   "cell_type": "markdown",
   "id": "133946e4-e1d4-46b5-90bd-b3946f3f3344",
   "metadata": {
    "editable": true,
    "slideshow": {
     "slide_type": "slide"
    },
    "tags": []
   },
   "source": [
    "<h3 align='center'> OLAP vs OLTP</h3>\n",
    "\n",
    "$\\Rightarrow$ **How is data is stored?**\n",
    "\n",
    "OLTP databases commonly store data **by records** while ensuring all data associated with a record is stored close together in memory. They are also optimized for reading and writing rows efficiently.\n",
    "\n",
    "OLAP databases are commonly oriented **by columns**, which means data is organized by columns. All data associated with a column is stored near one another in memory, and the database is optimised for reading and computing on the columns efficiently."
   ]
  },
  {
   "cell_type": "markdown",
   "id": "9672296d-e1f8-4ca7-854a-657347e35fd0",
   "metadata": {
    "editable": true,
    "raw_mimetype": "",
    "slideshow": {
     "slide_type": "slide"
    },
    "tags": []
   },
   "source": [
    "<h3 align='center'>  Installing and Loading JupySQL and Duckdb in Jupyter Notebooks </h3>\n",
    "\n",
    "To get started with JupySQL and duckdb, you first need to install the modules. \n",
    "\n",
    "Ensure you have followed the steps in the [README](https://github.com/Vancouver-Datajam/automate-etl-github-actions/tree/main#setup-instructions) to install the required modules.\n",
    "\n",
    "0. Fork repository https://github.com/lfunderburk/automate-elt-github/tree/main\n",
    "1. Clone your fork of the repository: \n",
    "\n",
    "```\n",
    "git clone https://github.com/<your-github-id>/automate-etl-github-actions.git\n",
    "cd automate-etl-github-actions\n",
    "```\n",
    "\n",
    "2. Create a virtual environment and install dependencies:\n",
    "\n",
    "```\n",
    "conda create -n automate-etl python=3.10\n",
    "conda activate automate-etl\n",
    "pip install poetry==1.5.1 redshift-connector \"sqlalchemy<2\"\n",
    "poetry install\n",
    "```"
   ]
  },
  {
   "cell_type": "markdown",
   "id": "8326f592-7484-47c2-a3be-b16d08d4383c",
   "metadata": {
    "editable": true,
    "slideshow": {
     "slide_type": "slide"
    },
    "tags": []
   },
   "source": [
    "<h3 align='center'>Hands-on exercise</h3>\n",
    "\n",
    "0. Fork repository https://github.com/lfunderburk/automate-elt-github/tree/main\n",
    "1. Clone your fork of the repository: \n",
    "\n",
    "```\n",
    "git clone https://github.com/<your-github-id>/automate-etl-github-actions.git\n",
    "cd automate-etl-github-actions\n",
    "```\n",
    "\n",
    "\n",
    "2. Create a virtual environment and install dependencies:\n",
    "\n",
    "```\n",
    "conda create -n automate-etl python=3.10\n",
    "conda activate automate-etl\n",
    "pip install poetry==1.5.1 redshift-connector \"sqlalchemy<2\"\n",
    "poetry install\n",
    "```"
   ]
  },
  {
   "cell_type": "markdown",
   "id": "705f94c5-7fc1-4faf-b94a-85605f05bc57",
   "metadata": {
    "editable": true,
    "slideshow": {
     "slide_type": "slide"
    },
    "tags": []
   },
   "source": [
    "<h3 align='center'>  Configuring JupySQL's behaviour </h3>\n",
    "\n",
    "By default, Poetry will create a `pyproject.toml` file. We can configure the functionality of JupySQL, for example, by transforming all SQL results into dataframe format by default.\n",
    "\n",
    "We will use that configuration:\n",
    "\n",
    "```bash\n",
    "[tool.jupysql.SqlMagic]\n",
    "displaycon = false\n",
    "feedback = true\n",
    "autopandas  = true\n",
    "named_parameters = true\n",
    "```\n"
   ]
  },
  {
   "cell_type": "markdown",
   "id": "6e5c8901-9fe0-4ad5-a388-d92843586ef7",
   "metadata": {
    "editable": true,
    "slideshow": {
     "slide_type": "slide"
    },
    "tags": []
   },
   "source": [
    "<h3 align='center'>  Data we will work with </h3>\n",
    "\n",
    "\n",
    "```{important}\n",
    "Source: UCI Machine Learning Repository\n",
    "\n",
    "URL: https://archive-beta.ics.uci.edu/dataset/222/bank+marketing\n",
    "\n",
    "Topic: The data is related with direct marketing campaigns (phone calls) of a Portuguese banking institution. The classification goal is to predict if the client will subscribe a term deposit (variable y).\n",
    "\n",
    "Data Citation\n",
    "\n",
    "Moro,S., Rita,P., and Cortez,P.. (2012). Bank Marketing. UCI Machine Learning Repository. https://doi.org/10.24432/C5K306.\n",
    "```"
   ]
  },
  {
   "cell_type": "markdown",
   "id": "ec2f2cbe-e0cf-47f8-9494-244ae64aadd5",
   "metadata": {
    "editable": true,
    "slideshow": {
     "slide_type": "slide"
    },
    "tags": []
   },
   "source": [
    "<h2 align='center'>Section 2: Data extraction, loading and wrangling working example</h2>"
   ]
  },
  {
   "cell_type": "markdown",
   "id": "658900be-2b74-4d5c-b49b-5ad0c64491eb",
   "metadata": {
    "editable": true,
    "slideshow": {
     "slide_type": "slide"
    },
    "tags": []
   },
   "source": [
    "<h3 align='center'> Extracting data </h3>\n",
    "\n",
    "We can set up a simple script to extract the data with Python. The data can be extracted via a URL which will download a `.zip` folder.\n",
    "\n",
    "The key steps in extraction are:\n",
    "\n",
    "0. Download the data via `urllib.request`\n",
    "1. Unzip the content of the downloaded folder\n",
    "2. Write the content of the folder into files\n"
   ]
  },
  {
   "cell_type": "markdown",
   "id": "6e4aeda7-c7e8-463b-a0fb-826c40151982",
   "metadata": {
    "editable": true,
    "slideshow": {
     "slide_type": "slide"
    },
    "tags": []
   },
   "source": [
    "<h3 align='center'>  Data download and extraction</h3>\n",
    "\n",
    "Sample functionality:\n",
    "\n",
    "```python\n",
    "import urllib.request\n",
    "import zipfile\n",
    "\n",
    "# Download the ZIP file\n",
    "zip_file_path, _ = urllib.request.urlretrieve(<data-download-url>)\n",
    "# Extract the ZIP file\n",
    "with zipfile.ZipFile(<destination-folder>, \"r\") as zip_ref:\n",
    "    zip_ref.extractall(self.output_folder)\n",
    "```\n",
    "\n",
    "To parse through each of the files, we will need to craft a bit more code. \n",
    "\n",
    "**Recommendation**: craft a `extractdata.py` script with your functions to extract and parse the data. Let's take a look at a sample script.\n",
    "\n",
    "https://github.com/lfunderburk/automate-elt-github/blob/main/pipeline/etl/extractdata.py"
   ]
  },
  {
   "cell_type": "markdown",
   "id": "93a0c24b-ad1a-45e2-9f76-20a512a3a739",
   "metadata": {
    "editable": true,
    "slideshow": {
     "slide_type": "slide"
    },
    "tags": []
   },
   "source": [
    "<h3 align='center'>Initializing the pipeline orchestration process</h3>\n",
    "\n",
    "One practice I like to follow is to package my pipelines as soon as I start developing them. This increases my ability to upgrade their complexity, while still being able to evaluate and test that the smaller components work as expected. \n",
    "\n",
    "For this workshop, I will package my pipelines with Ploomber, which allows me to combine Python scripts, SQL scripts and even Jupyter notebooks as part of the pipeline.\n",
    "\n",
    "At the core of Ploomber pipelines are `yaml` files. A sample pipeline can be found here:"
   ]
  },
  {
   "cell_type": "markdown",
   "id": "f61e976d-8510-4e40-ad5d-7f455d93457d",
   "metadata": {
    "editable": true,
    "slideshow": {
     "slide_type": "slide"
    },
    "tags": []
   },
   "source": [
    "The `pipeline.yaml` file:\n",
    "\n",
    "```yaml\n",
    "tasks:\n",
    "  - source: etl/extractdata.py\n",
    "    product:\n",
    "      nb: products/extract-pipeline.ipynb\n",
    "```\n",
    "\n",
    "The Ploomber pipeline consists of tasks, whose sub entries contain the source (replace with your script or Jupyter notebook) and the products. Ploomber uses `papermill` - which allows you to parameterize, execute, and analyze notebooks, enabling you to leverage an open source framework to experiment with Jupyter notebooks. This, combined with the ability to include `.py` and `.sql` scripts, enables you to have flexibility in how you craft your pipelines. "
   ]
  },
  {
   "cell_type": "markdown",
   "id": "327b409a-da79-42ab-8ba6-32a342d9926d",
   "metadata": {
    "editable": true,
    "slideshow": {
     "slide_type": "slide"
    },
    "tags": []
   },
   "source": [
    "<h3 align='center'>Directory structure - before running the pipeline</h3>\n",
    "\n",
    "```bash\n",
    "pipeline/\n",
    "├──pipeline.yaml\n",
    "├──pyproject.toml\n",
    "├──README.md\n",
    "├──etl/\n",
    "├──├── extractdata.py\n",
    "├──products/\n",
    "```"
   ]
  },
  {
   "cell_type": "markdown",
   "id": "62edb03b-e1f7-488a-869f-46a8f51bf97f",
   "metadata": {
    "editable": true,
    "slideshow": {
     "slide_type": "slide"
    },
    "tags": []
   },
   "source": [
    "<h3 align='center'>Hands-on exercise</h3>\n",
    "\n",
    "1. Create a `pipeline.yaml` file under `automate-elt-github/pipeline/`\n",
    "2. Add the tasks:\n",
    "\n",
    "```yaml\n",
    "tasks:\n",
    "  - source: etl/extractdata.py\n",
    "    product:\n",
    "      nb: products/extract-pipeline.ipynb\n",
    "```\n"
   ]
  },
  {
   "cell_type": "markdown",
   "id": "60cee19e-9167-404f-9c16-eba9a7eecc36",
   "metadata": {
    "editable": true,
    "slideshow": {
     "slide_type": "slide"
    },
    "tags": []
   },
   "source": [
    "<h3 align='center'>Executing the pipeline</h3>\n",
    "\n",
    "```bash\n",
    "$ cd pipeline/\n",
    "$ poetry run ploomber build\n",
    "```\n",
    "\n",
    "This yields:\n",
    "\n",
    "```bash\n",
    "Loading pipeline...\n",
    "Executing: 100%|█████████████████████████████████████████████████████████████████| 5/5 [00:09<00:00,  1.87s/cell]\n",
    "Building task 'extractdata': 100%|█████████████████████████████████████████████████| 1/1 [00:09<00:00,  9.34s/it]\n",
    "name         Ran?      Elapsed (s)    Percentage\n",
    "-----------  ------  -------------  ------------\n",
    "extractdata  True          9.33752           100\n",
    "```"
   ]
  },
  {
   "cell_type": "markdown",
   "id": "6c7c5dc2-2cc7-45a4-ace4-ea83dd3168b5",
   "metadata": {
    "editable": true,
    "slideshow": {
     "slide_type": "slide"
    },
    "tags": []
   },
   "source": [
    "<h3 align='center'>Directory structure - after running the pipeline</h3>\n",
    "\n",
    "```\n",
    "pipeline/\n",
    "├──pipeline.yaml\n",
    "├──pyproject.toml\n",
    "├──README.md\n",
    "├──etl/\n",
    "├──├── extractdata.py\n",
    "├──├── expanded_data/\n",
    "├──├──├── file_1.csv\n",
    "├──├──├── file_2.csv\n",
    "├──├──├── ...\n",
    "├──products/\n",
    "├──├── extract-pipeline.ipynb\n",
    "├──├── extract-pipeline.ipynb.metadata\n",
    "```"
   ]
  },
  {
   "cell_type": "markdown",
   "id": "907f75d9-dd81-4a9b-b8d8-3cae13ba760e",
   "metadata": {
    "editable": true,
    "slideshow": {
     "slide_type": "slide"
    },
    "tags": []
   },
   "source": [
    "<h2 align='center'>Goal: upgrade this pipeline to load the data onto a database, and further transform it using SQL </h2>\n"
   ]
  },
  {
   "cell_type": "markdown",
   "id": "55de9df2-68a0-4cb6-9682-3d1ae0654dc7",
   "metadata": {
    "editable": true,
    "slideshow": {
     "slide_type": "slide"
    },
    "tags": []
   },
   "source": [
    "<h3 align='center'>  Loading the extracted data, then transforming on a DuckDB instance</h3>\n",
    "\n",
    "We can now populate a database. We will use JupySQL to populate a database with the raw data, and further transform it. \n",
    "\n",
    "Here is a sample Jupyter notebook that joins the tables \n",
    "\n",
    "https://github.com/lfunderburk/automate-elt-github/blob/main/pipeline/etl/wrangle-data.ipynb\n",
    "\n"
   ]
  },
  {
   "cell_type": "markdown",
   "id": "6b7e67cc-882c-4ad3-874b-173bb8fed529",
   "metadata": {
    "editable": true,
    "slideshow": {
     "slide_type": "slide"
    },
    "tags": []
   },
   "source": [
    "We will then expand the pipeline and verify our results. \n",
    "\n",
    "```yaml\n",
    "tasks:\n",
    "  - source: etl/extractdata.py\n",
    "    product:\n",
    "      nb: products/extract-pipeline.ipynb\n",
    "  - source: etl/wrangle-data.ipynb\n",
    "    product:\n",
    "      nb: products/wrangle-data-pipeline.ipynb\n",
    "      data: etl/bank_data.duck.db\n",
    "```\n",
    "\n"
   ]
  },
  {
   "cell_type": "markdown",
   "id": "0c84c84e-8d7e-4c8b-8bec-c8d57bab9457",
   "metadata": {
    "editable": true,
    "slideshow": {
     "slide_type": "slide"
    },
    "tags": []
   },
   "source": [
    "We run the pipeline\n",
    "\n",
    "```bash\n",
    "$ poetry run ploomber build\n",
    "\n",
    "Executing:  56%|████████████████████                | 5/9 [00:03<00:02,  1.44cell/s]\n",
    "Building task 'wrangle-data': 100%|███████████████████| 1/1 [00:03<00:00,  3.49s/it]\n",
    "name          Ran?      Elapsed (s)    Percentage\n",
    "------------  ------  -------------  ------------\n",
    "wrangle-data  True          3.48937           100\n",
    "extractdata   False         0                   0\n",
    "```"
   ]
  },
  {
   "cell_type": "markdown",
   "id": "468ebdbc-55fb-406c-a957-449273428f77",
   "metadata": {
    "editable": true,
    "slideshow": {
     "slide_type": "slide"
    },
    "tags": []
   },
   "source": [
    "<h3 align='center'>  EDA within Jupyter with JupySQL</h3>\n"
   ]
  },
  {
   "cell_type": "code",
   "execution_count": 1,
   "id": "792cc263-3cd4-4a97-aa6f-ab5d59422930",
   "metadata": {
    "editable": true,
    "slideshow": {
     "slide_type": "fragment"
    },
    "tags": []
   },
   "outputs": [
    {
     "data": {
      "text/html": [
       "<span style=\"None\">Found pyproject.toml from &#x27;/Users/macpro/Documents/GitHub/automate-elt-github&#x27;</span>"
      ],
      "text/plain": [
       "Found pyproject.toml from '/Users/macpro/Documents/GitHub/automate-elt-github'"
      ]
     },
     "metadata": {},
     "output_type": "display_data"
    },
    {
     "data": {
      "text/html": [
       "<span style=\"None\">Settings changed:</span>"
      ],
      "text/plain": [
       "Settings changed:"
      ]
     },
     "metadata": {},
     "output_type": "display_data"
    },
    {
     "data": {
      "text/html": [
       "\n",
       "<table>\n",
       "    <thead>\n",
       "        <tr>\n",
       "            <th>Config</th>\n",
       "            <th>value</th>\n",
       "        </tr>\n",
       "    </thead>\n",
       "    <tbody>\n",
       "        <tr>\n",
       "            <td>displaycon</td>\n",
       "            <td>False</td>\n",
       "        </tr>\n",
       "        <tr>\n",
       "            <td>feedback</td>\n",
       "            <td>True</td>\n",
       "        </tr>\n",
       "        <tr>\n",
       "            <td>autopandas</td>\n",
       "            <td>True</td>\n",
       "        </tr>\n",
       "        <tr>\n",
       "            <td>named_parameters</td>\n",
       "            <td>True</td>\n",
       "        </tr>\n",
       "    </tbody>\n",
       "</table>"
      ],
      "text/plain": [
       "\n",
       "+------------------+-------+\n",
       "|      Config      | value |\n",
       "+------------------+-------+\n",
       "|    displaycon    | False |\n",
       "|     feedback     |  True |\n",
       "|    autopandas    |  True |\n",
       "| named_parameters |  True |\n",
       "+------------------+-------+"
      ]
     },
     "metadata": {},
     "output_type": "display_data"
    }
   ],
   "source": [
    "# Loading in SQL extension\n",
    "%reload_ext sql\n",
    "# Initiating a DuckDB database named 'bank_data.duck.db' to run SQL queries\n",
    "%sql duckdb:///../bank_data.duck.db"
   ]
  },
  {
   "cell_type": "code",
   "execution_count": 2,
   "id": "a5b71426-6004-4fc9-86fa-1d7870130e17",
   "metadata": {
    "editable": true,
    "slideshow": {
     "slide_type": "fragment"
    },
    "tags": []
   },
   "outputs": [
    {
     "data": {
      "text/html": [
       "<table>\n",
       "    <thead>\n",
       "        <tr>\n",
       "            <th>Name</th>\n",
       "        </tr>\n",
       "    </thead>\n",
       "    <tbody>\n",
       "        <tr>\n",
       "            <td>client_account_district</td>\n",
       "        </tr>\n",
       "        <tr>\n",
       "            <td>account_trans_order</td>\n",
       "        </tr>\n",
       "    </tbody>\n",
       "</table>"
      ],
      "text/plain": [
       "+-------------------------+\n",
       "|           Name          |\n",
       "+-------------------------+\n",
       "| client_account_district |\n",
       "|   account_trans_order   |\n",
       "+-------------------------+"
      ]
     },
     "execution_count": 2,
     "metadata": {},
     "output_type": "execute_result"
    }
   ],
   "source": [
    "%sqlcmd tables"
   ]
  },
  {
   "cell_type": "markdown",
   "id": "30dc2265-382a-4053-bb3c-46589d2c8c5f",
   "metadata": {
    "editable": true,
    "slideshow": {
     "slide_type": "slide"
    },
    "tags": []
   },
   "source": [
    "<h3 align='center'> Data profiling </h3>\n"
   ]
  },
  {
   "cell_type": "code",
   "execution_count": 3,
   "id": "b2616973-b2f3-4d39-be89-6167eedc4c10",
   "metadata": {
    "editable": true,
    "slideshow": {
     "slide_type": "fragment"
    },
    "tags": []
   },
   "outputs": [
    {
     "data": {
      "text/html": [
       "<div style='position: sticky; left: 0; padding: 10px; font-size: 12px; color: #FFA500'><strong></strong> </div><style>\n",
       " #profile-table td:first-child {\n",
       "  position: sticky;\n",
       "  left: 0;\n",
       "  background-color: var(--jp-cell-editor-background);\n",
       "  font-weight: bold;\n",
       "}\n",
       " #profile-table thead tr th:first-child {\n",
       "  position: sticky;\n",
       "  left: 0;\n",
       "  background-color: var(--jp-cell-editor-background);\n",
       "  font-weight: bold; /* Adding bold text */\n",
       "}\n",
       "            </style><style></style><table id=\"profile-table-e6ae54d89a7e4830bf19760efbc06b3e\">\n",
       "    <thead>\n",
       "        <tr>\n",
       "            <th> </th>\n",
       "            <th>account_id</th>\n",
       "            <th>frequency</th>\n",
       "            <th>account_creation_date</th>\n",
       "            <th>trans_id</th>\n",
       "            <th>transaction_date</th>\n",
       "            <th>transaction_type</th>\n",
       "            <th>operation</th>\n",
       "            <th>transaction_amount</th>\n",
       "            <th>balance</th>\n",
       "            <th>order_id</th>\n",
       "            <th>bank_to</th>\n",
       "            <th>account_to</th>\n",
       "            <th>order_amount</th>\n",
       "        </tr>\n",
       "    </thead>\n",
       "    <tbody>\n",
       "        <tr>\n",
       "            <td>count</td>\n",
       "            <td>1715140</td>\n",
       "            <td>1715140</td>\n",
       "            <td>1715140</td>\n",
       "            <td>1715140</td>\n",
       "            <td>1715140</td>\n",
       "            <td>1715140</td>\n",
       "            <td>1448066</td>\n",
       "            <td>1715140</td>\n",
       "            <td>1715140</td>\n",
       "            <td>1715140</td>\n",
       "            <td>1715140</td>\n",
       "            <td>1715140</td>\n",
       "            <td>1715140</td>\n",
       "        </tr>\n",
       "        <tr>\n",
       "            <td>unique</td>\n",
       "            <td>3758</td>\n",
       "            <td>3</td>\n",
       "            <td>1468</td>\n",
       "            <td>913010</td>\n",
       "            <td>2191</td>\n",
       "            <td>3</td>\n",
       "            <td>5</td>\n",
       "            <td>36147</td>\n",
       "            <td>494619</td>\n",
       "            <td>6471</td>\n",
       "            <td>13</td>\n",
       "            <td>6446</td>\n",
       "            <td>4412</td>\n",
       "        </tr>\n",
       "        <tr>\n",
       "            <td>top</td>\n",
       "            <td>nan</td>\n",
       "            <td>POPLATEK MESICNE</td>\n",
       "            <td>nan</td>\n",
       "            <td>nan</td>\n",
       "            <td>nan</td>\n",
       "            <td>VYDAJ</td>\n",
       "            <td>VYBER</td>\n",
       "            <td>nan</td>\n",
       "            <td>nan</td>\n",
       "            <td>nan</td>\n",
       "            <td>YZ</td>\n",
       "            <td>nan</td>\n",
       "            <td>nan</td>\n",
       "        </tr>\n",
       "        <tr>\n",
       "            <td>freq</td>\n",
       "            <td>nan</td>\n",
       "            <td>1566570</td>\n",
       "            <td>nan</td>\n",
       "            <td>nan</td>\n",
       "            <td>nan</td>\n",
       "            <td>1102627</td>\n",
       "            <td>634299</td>\n",
       "            <td>nan</td>\n",
       "            <td>nan</td>\n",
       "            <td>nan</td>\n",
       "            <td>139314</td>\n",
       "            <td>nan</td>\n",
       "            <td>nan</td>\n",
       "        </tr>\n",
       "        <tr>\n",
       "            <td>mean</td>\n",
       "            <td>3094.1083</td>\n",
       "            <td>nan</td>\n",
       "            <td>944777.5185</td>\n",
       "            <td>1331562.3713</td>\n",
       "            <td>965826.2771</td>\n",
       "            <td>nan</td>\n",
       "            <td>nan</td>\n",
       "            <td>5635.1784</td>\n",
       "            <td>38775.0580</td>\n",
       "            <td>33974.2133</td>\n",
       "            <td>nan</td>\n",
       "            <td>49244253.5220</td>\n",
       "            <td>3164.0519</td>\n",
       "        </tr>\n",
       "        <tr>\n",
       "            <td>std</td>\n",
       "            <td>2640.1109</td>\n",
       "            <td>nan</td>\n",
       "            <td>14117.7740</td>\n",
       "            <td>1214076.4248</td>\n",
       "            <td>13890.0655</td>\n",
       "            <td>nan</td>\n",
       "            <td>nan</td>\n",
       "            <td>9205.2246</td>\n",
       "            <td>21598.1211</td>\n",
       "            <td>3918.6348</td>\n",
       "            <td>nan</td>\n",
       "            <td>28917744.6902</td>\n",
       "            <td>2690.0998</td>\n",
       "        </tr>\n",
       "        <tr>\n",
       "            <td>min</td>\n",
       "            <td>1</td>\n",
       "            <td>nan</td>\n",
       "            <td>930101</td>\n",
       "            <td>1</td>\n",
       "            <td>930101</td>\n",
       "            <td>nan</td>\n",
       "            <td>nan</td>\n",
       "            <td>0.0</td>\n",
       "            <td>-35456.6</td>\n",
       "            <td>29401</td>\n",
       "            <td>nan</td>\n",
       "            <td>399</td>\n",
       "            <td>1.0</td>\n",
       "        </tr>\n",
       "        <tr>\n",
       "            <td>25%</td>\n",
       "            <td>1249.0000</td>\n",
       "            <td>nan</td>\n",
       "            <td>930728.0000</td>\n",
       "            <td>431994.0000</td>\n",
       "            <td>960126.0000</td>\n",
       "            <td>nan</td>\n",
       "            <td>nan</td>\n",
       "            <td>150.0000</td>\n",
       "            <td>22898.8000</td>\n",
       "            <td>31228.0000</td>\n",
       "            <td>nan</td>\n",
       "            <td>23890793.0000</td>\n",
       "            <td>1069.0000</td>\n",
       "        </tr>\n",
       "        <tr>\n",
       "            <td>50%</td>\n",
       "            <td>2493.0000</td>\n",
       "            <td>nan</td>\n",
       "            <td>940822.0000</td>\n",
       "            <td>859667.0000</td>\n",
       "            <td>970415.0000</td>\n",
       "            <td>nan</td>\n",
       "            <td>nan</td>\n",
       "            <td>1974.0000</td>\n",
       "            <td>33696.4000</td>\n",
       "            <td>33086.0000</td>\n",
       "            <td>nan</td>\n",
       "            <td>49547737.0000</td>\n",
       "            <td>2454.0000</td>\n",
       "        </tr>\n",
       "        <tr>\n",
       "            <td>75%</td>\n",
       "            <td>3751.0000</td>\n",
       "            <td>nan</td>\n",
       "            <td>960316.0000</td>\n",
       "            <td>2121552.0000</td>\n",
       "            <td>980228.0000</td>\n",
       "            <td>nan</td>\n",
       "            <td>nan</td>\n",
       "            <td>6388.0000</td>\n",
       "            <td>49760.4000</td>\n",
       "            <td>34928.0000</td>\n",
       "            <td>nan</td>\n",
       "            <td>73936581.0000</td>\n",
       "            <td>4545.0000</td>\n",
       "        </tr>\n",
       "        <tr>\n",
       "            <td>max</td>\n",
       "            <td>11362</td>\n",
       "            <td>nan</td>\n",
       "            <td>971229</td>\n",
       "            <td>3682987</td>\n",
       "            <td>981231</td>\n",
       "            <td>nan</td>\n",
       "            <td>nan</td>\n",
       "            <td>87400.0</td>\n",
       "            <td>209637.0</td>\n",
       "            <td>46338</td>\n",
       "            <td>nan</td>\n",
       "            <td>99994199</td>\n",
       "            <td>14882.0</td>\n",
       "        </tr>\n",
       "    </tbody>\n",
       "</table><div style='position: sticky; left: 0; padding: 10px; font-size: 12px; color: black; background-color: white;'><strong></strong> </div>"
      ],
      "text/plain": [
       "+--------+------------+------------------+-----------------------+--------------+------------------+------------------+-----------+--------------------+------------+------------+---------+---------------+--------------+\n",
       "|        | account_id |    frequency     | account_creation_date |   trans_id   | transaction_date | transaction_type | operation | transaction_amount |  balance   |  order_id  | bank_to |   account_to  | order_amount |\n",
       "+--------+------------+------------------+-----------------------+--------------+------------------+------------------+-----------+--------------------+------------+------------+---------+---------------+--------------+\n",
       "| count  |  1715140   |     1715140      |        1715140        |   1715140    |     1715140      |     1715140      |  1448066  |      1715140       |  1715140   |  1715140   | 1715140 |    1715140    |   1715140    |\n",
       "| unique |    3758    |        3         |          1468         |    913010    |       2191       |        3         |     5     |       36147        |   494619   |    6471    |    13   |      6446     |     4412     |\n",
       "|  top   |    nan     | POPLATEK MESICNE |          nan          |     nan      |       nan        |      VYDAJ       |   VYBER   |        nan         |    nan     |    nan     |    YZ   |      nan      |     nan      |\n",
       "|  freq  |    nan     |     1566570      |          nan          |     nan      |       nan        |     1102627      |   634299  |        nan         |    nan     |    nan     |  139314 |      nan      |     nan      |\n",
       "|  mean  | 3094.1083  |       nan        |      944777.5185      | 1331562.3713 |   965826.2771    |       nan        |    nan    |     5635.1784      | 38775.0580 | 33974.2133 |   nan   | 49244253.5220 |  3164.0519   |\n",
       "|  std   | 2640.1109  |       nan        |       14117.7740      | 1214076.4248 |    13890.0655    |       nan        |    nan    |     9205.2246      | 21598.1211 | 3918.6348  |   nan   | 28917744.6902 |  2690.0998   |\n",
       "|  min   |     1      |       nan        |         930101        |      1       |      930101      |       nan        |    nan    |        0.0         |  -35456.6  |   29401    |   nan   |      399      |     1.0      |\n",
       "|  25%   | 1249.0000  |       nan        |      930728.0000      | 431994.0000  |   960126.0000    |       nan        |    nan    |      150.0000      | 22898.8000 | 31228.0000 |   nan   | 23890793.0000 |  1069.0000   |\n",
       "|  50%   | 2493.0000  |       nan        |      940822.0000      | 859667.0000  |   970415.0000    |       nan        |    nan    |     1974.0000      | 33696.4000 | 33086.0000 |   nan   | 49547737.0000 |  2454.0000   |\n",
       "|  75%   | 3751.0000  |       nan        |      960316.0000      | 2121552.0000 |   980228.0000    |       nan        |    nan    |     6388.0000      | 49760.4000 | 34928.0000 |   nan   | 73936581.0000 |  4545.0000   |\n",
       "|  max   |   11362    |       nan        |         971229        |   3682987    |      981231      |       nan        |    nan    |      87400.0       |  209637.0  |   46338    |   nan   |    99994199   |   14882.0    |\n",
       "+--------+------------+------------------+-----------------------+--------------+------------------+------------------+-----------+--------------------+------------+------------+---------+---------------+--------------+"
      ]
     },
     "execution_count": 3,
     "metadata": {},
     "output_type": "execute_result"
    }
   ],
   "source": [
    "\"\"\"\n",
    "client_account_district\n",
    "account_trans_order\n",
    "\"\"\"\n",
    "%sqlcmd profile -t account_trans_order"
   ]
  },
  {
   "cell_type": "markdown",
   "id": "6d8140b7-eb21-4350-8687-240b604bcc79",
   "metadata": {
    "editable": true,
    "slideshow": {
     "slide_type": "slide"
    },
    "tags": []
   },
   "source": [
    "<h3 align='center'> Which district has the highest number of entrepreneurs per 1000 inhabitants? </h3>\n"
   ]
  },
  {
   "cell_type": "code",
   "execution_count": 4,
   "id": "c442be73-181c-4460-afe0-095123578f46",
   "metadata": {
    "editable": true,
    "slideshow": {
     "slide_type": "fragment"
    },
    "tags": []
   },
   "outputs": [
    {
     "data": {
      "text/html": [
       "<div>\n",
       "<style scoped>\n",
       "    .dataframe tbody tr th:only-of-type {\n",
       "        vertical-align: middle;\n",
       "    }\n",
       "\n",
       "    .dataframe tbody tr th {\n",
       "        vertical-align: top;\n",
       "    }\n",
       "\n",
       "    .dataframe thead th {\n",
       "        text-align: right;\n",
       "    }\n",
       "</style>\n",
       "<table border=\"1\" class=\"dataframe\">\n",
       "  <thead>\n",
       "    <tr style=\"text-align: right;\">\n",
       "      <th></th>\n",
       "      <th>district_name</th>\n",
       "      <th>no_of_entrepreneurs_per_1000_inhabitants</th>\n",
       "    </tr>\n",
       "  </thead>\n",
       "  <tbody>\n",
       "    <tr>\n",
       "      <th>0</th>\n",
       "      <td>Hl.m. Praha</td>\n",
       "      <td>167</td>\n",
       "    </tr>\n",
       "  </tbody>\n",
       "</table>\n",
       "</div>"
      ],
      "text/plain": [
       "  district_name  no_of_entrepreneurs_per_1000_inhabitants\n",
       "0   Hl.m. Praha                                       167"
      ]
     },
     "execution_count": 4,
     "metadata": {},
     "output_type": "execute_result"
    }
   ],
   "source": [
    "%%sql\n",
    "SELECT DISTINCT district_name, no_of_entrepreneurs_per_1000_inhabitants\n",
    "FROM client_account_district\n",
    "ORDER BY no_of_entrepreneurs_per_1000_inhabitants DESC\n",
    "LIMIT 1;"
   ]
  },
  {
   "cell_type": "markdown",
   "id": "48e7c6b7-28b4-4127-a81a-8425b1014e5f",
   "metadata": {
    "editable": true,
    "slideshow": {
     "slide_type": "slide"
    },
    "tags": []
   },
   "source": [
    "<h3 align='center'>Which region has the highest average salary?</h3>"
   ]
  },
  {
   "cell_type": "code",
   "execution_count": 5,
   "id": "0db5d99c-72f6-4f58-bc68-7b2c96032ba8",
   "metadata": {
    "editable": true,
    "slideshow": {
     "slide_type": "fragment"
    },
    "tags": []
   },
   "outputs": [
    {
     "data": {
      "text/html": [
       "<span style=\"None\">Skipping execution...</span>"
      ],
      "text/plain": [
       "Skipping execution..."
      ]
     },
     "metadata": {},
     "output_type": "display_data"
    }
   ],
   "source": [
    "%%sql --save average_salary --no-execute\n",
    "SELECT region, AVG(average_salary) AS avg_salary\n",
    "FROM client_account_district\n",
    "GROUP BY region\n",
    "ORDER BY avg_salary DESC"
   ]
  },
  {
   "cell_type": "code",
   "execution_count": 6,
   "id": "d4ba8907-25c7-470b-be77-041c8f589771",
   "metadata": {
    "editable": true,
    "slideshow": {
     "slide_type": "slide"
    },
    "tags": []
   },
   "outputs": [
    {
     "data": {
      "text/html": [
       "<span style=\"None\">Generating CTE with stored snippets: &#x27;average_salary&#x27;</span>"
      ],
      "text/plain": [
       "Generating CTE with stored snippets: 'average_salary'"
      ]
     },
     "metadata": {},
     "output_type": "display_data"
    },
    {
     "data": {
      "image/png": "[encoded data removed]",
      "text/plain": [
       "<Figure size 640x480 with 1 Axes>"
      ]
     },
     "metadata": {},
     "output_type": "display_data"
    }
   ],
   "source": [
    "import seaborn as sns\n",
    "import matplotlib.pyplot as plt\n",
    "avg_sal = %sql SELECT * FROM average_salary\n",
    "sns.barplot(x=avg_sal['region'], y=avg_sal['avg_salary'])\n",
    "plt.xticks(rotation=45)\n",
    "plt.title(\"Average salary by region\")\n",
    "plt.show()"
   ]
  },
  {
   "cell_type": "markdown",
   "id": "2bbe5333-8aef-4cc3-bbb7-42fe0f4c15c9",
   "metadata": {
    "editable": true,
    "slideshow": {
     "slide_type": "slide"
    },
    "tags": []
   },
   "source": [
    "<h3 align='center'> How many clients are there in each region?</h3>"
   ]
  },
  {
   "cell_type": "code",
   "execution_count": 7,
   "id": "ac5fc929-d269-4442-aec6-03865a593153",
   "metadata": {
    "editable": true,
    "slideshow": {
     "slide_type": "fragment"
    },
    "tags": []
   },
   "outputs": [
    {
     "data": {
      "text/html": [
       "<span style=\"None\">Skipping execution...</span>"
      ],
      "text/plain": [
       "Skipping execution..."
      ]
     },
     "metadata": {},
     "output_type": "display_data"
    }
   ],
   "source": [
    "%%sql --save client_frequency --no-execute\n",
    "SELECT region, COUNT(DISTINCT client_id) AS num_clients\n",
    "FROM client_account_district\n",
    "GROUP BY region;"
   ]
  },
  {
   "cell_type": "code",
   "execution_count": 8,
   "id": "0145e8da-0941-48f6-b66a-916247b296a9",
   "metadata": {
    "editable": true,
    "slideshow": {
     "slide_type": "slide"
    },
    "tags": []
   },
   "outputs": [
    {
     "data": {
      "text/html": [
       "<span style=\"None\">Generating CTE with stored snippets: &#x27;client_frequency&#x27;</span>"
      ],
      "text/plain": [
       "Generating CTE with stored snippets: 'client_frequency'"
      ]
     },
     "metadata": {},
     "output_type": "display_data"
    },
    {
     "data": {
      "image/png": "[encoded data removed]",
      "text/plain": [
       "<Figure size 640x480 with 1 Axes>"
      ]
     },
     "metadata": {},
     "output_type": "display_data"
    }
   ],
   "source": [
    "client_freq = %sql SELECT * FROM client_frequency\n",
    "client_freq.sort_values(by='num_clients', inplace=True)\n",
    "sns.barplot(x=client_freq['region'], y=client_freq['num_clients'])\n",
    "plt.xticks(rotation=45)\n",
    "plt.title(\"Number of clients in each region\")\n",
    "plt.show()"
   ]
  },
  {
   "cell_type": "markdown",
   "id": "e615b21c-d163-4600-8337-1e2af3e164b6",
   "metadata": {
    "editable": true,
    "slideshow": {
     "slide_type": "slide"
    },
    "tags": []
   },
   "source": [
    "<h3 align='center'> Is there a correlation between the average salary of a district and the average transaction amount of clients from that district?</h3>"
   ]
  },
  {
   "cell_type": "code",
   "execution_count": 9,
   "id": "8726be50-2f6c-4a44-9c86-cbcbef48d6a6",
   "metadata": {
    "editable": true,
    "slideshow": {
     "slide_type": "fragment"
    },
    "tags": []
   },
   "outputs": [
    {
     "data": {
      "text/html": [
       "<span style=\"None\">Skipping execution...</span>"
      ],
      "text/plain": [
       "Skipping execution..."
      ]
     },
     "metadata": {},
     "output_type": "display_data"
    }
   ],
   "source": [
    "%%sql --save avg_dist_avg_transaction --no-execute\n",
    "SELECT \n",
    "    cad.region,\n",
    "    AVG(cad.average_salary) AS avg_district_salary,\n",
    "    AVG(ato.transaction_amount) AS avg_transaction_amount\n",
    "FROM client_account_district cad\n",
    "JOIN account_trans_order ato ON cad.account_id = ato.account_id\n",
    "GROUP BY cad.region\n",
    "ORDER BY avg_district_salary, avg_transaction_amount;\n"
   ]
  },
  {
   "cell_type": "code",
   "execution_count": 10,
   "id": "446274f0-b4fc-47eb-8b0d-ea838b943769",
   "metadata": {
    "editable": true,
    "slideshow": {
     "slide_type": "slide"
    },
    "tags": []
   },
   "outputs": [
    {
     "data": {
      "text/html": [
       "<span style=\"None\">Generating CTE with stored snippets: &#x27;avg_dist_avg_transaction&#x27;</span>"
      ],
      "text/plain": [
       "Generating CTE with stored snippets: 'avg_dist_avg_transaction'"
      ]
     },
     "metadata": {},
     "output_type": "display_data"
    },
    {
     "data": {
      "application/vnd.jupyter.widget-view+json": {
       "model_id": "a488cd875c9e4a3f950f23a07d4fc597",
       "version_major": 2,
       "version_minor": 0
      },
      "text/plain": [
       "FloatProgress(value=0.0, layout=Layout(width='auto'), style=ProgressStyle(bar_color='black'))"
      ]
     },
     "metadata": {},
     "output_type": "display_data"
    },
    {
     "data": {
      "application/vnd.jupyter.widget-view+json": {
       "model_id": "8ad2ab0e89524ba1a45a0ba4aa49e693",
       "version_major": 2,
       "version_minor": 0
      },
      "text/plain": [
       "FloatProgress(value=0.0, layout=Layout(width='auto'), style=ProgressStyle(bar_color='black'))"
      ]
     },
     "metadata": {},
     "output_type": "display_data"
    },
    {
     "data": {
      "text/html": [
       "<div>\n",
       "<style scoped>\n",
       "    .dataframe tbody tr th:only-of-type {\n",
       "        vertical-align: middle;\n",
       "    }\n",
       "\n",
       "    .dataframe tbody tr th {\n",
       "        vertical-align: top;\n",
       "    }\n",
       "\n",
       "    .dataframe thead th {\n",
       "        text-align: right;\n",
       "    }\n",
       "</style>\n",
       "<table border=\"1\" class=\"dataframe\">\n",
       "  <thead>\n",
       "    <tr style=\"text-align: right;\">\n",
       "      <th></th>\n",
       "      <th>region</th>\n",
       "      <th>avg_district_salary</th>\n",
       "      <th>avg_transaction_amount</th>\n",
       "    </tr>\n",
       "  </thead>\n",
       "  <tbody>\n",
       "    <tr>\n",
       "      <th>0</th>\n",
       "      <td>east Bohemia</td>\n",
       "      <td>8625.323651</td>\n",
       "      <td>5684.243681</td>\n",
       "    </tr>\n",
       "    <tr>\n",
       "      <th>1</th>\n",
       "      <td>south Bohemia</td>\n",
       "      <td>8793.189384</td>\n",
       "      <td>5764.042859</td>\n",
       "    </tr>\n",
       "    <tr>\n",
       "      <th>2</th>\n",
       "      <td>west Bohemia</td>\n",
       "      <td>8986.326405</td>\n",
       "      <td>5393.660454</td>\n",
       "    </tr>\n",
       "    <tr>\n",
       "      <th>3</th>\n",
       "      <td>south Moravia</td>\n",
       "      <td>9139.420950</td>\n",
       "      <td>5304.807736</td>\n",
       "    </tr>\n",
       "    <tr>\n",
       "      <th>4</th>\n",
       "      <td>north Bohemia</td>\n",
       "      <td>9250.226137</td>\n",
       "      <td>5527.467883</td>\n",
       "    </tr>\n",
       "  </tbody>\n",
       "</table>\n",
       "</div>"
      ],
      "text/plain": [
       "          region  avg_district_salary  avg_transaction_amount\n",
       "0   east Bohemia          8625.323651             5684.243681\n",
       "1  south Bohemia          8793.189384             5764.042859\n",
       "2   west Bohemia          8986.326405             5393.660454\n",
       "3  south Moravia          9139.420950             5304.807736\n",
       "4  north Bohemia          9250.226137             5527.467883"
      ]
     },
     "execution_count": 10,
     "metadata": {},
     "output_type": "execute_result"
    }
   ],
   "source": [
    "avg_d_avg_tr = %sql SELECT * FROM avg_dist_avg_transaction\n",
    "avg_d_avg_tr.head()"
   ]
  },
  {
   "cell_type": "markdown",
   "id": "8c7dcd9e-d93d-4484-a92b-06877aa3e211",
   "metadata": {
    "editable": true,
    "slideshow": {
     "slide_type": "slide"
    },
    "tags": []
   },
   "source": [
    "Visualize:"
   ]
  },
  {
   "cell_type": "code",
   "execution_count": 11,
   "id": "6825e7aa-2edb-4890-8334-35f982621fb1",
   "metadata": {
    "editable": true,
    "slideshow": {
     "slide_type": "fragment"
    },
    "tags": []
   },
   "outputs": [
    {
     "data": {
      "image/png": "[encoded data removed]",
      "text/plain": [
       "<Figure size 640x480 with 1 Axes>"
      ]
     },
     "metadata": {},
     "output_type": "display_data"
    }
   ],
   "source": [
    "sns.scatterplot(data=avg_d_avg_tr, \n",
    "                x = \"avg_district_salary\", \n",
    "                y = \"avg_transaction_amount\",\n",
    "               hue='region')\n",
    "plt.xlabel(\"average district salary\")\n",
    "plt.ylabel(\"average transaction amount\")\n",
    "plt.show()"
   ]
  },
  {
   "cell_type": "markdown",
   "id": "0fbb94cd-7642-4c19-b640-c8c4df0769ac",
   "metadata": {
    "editable": true,
    "slideshow": {
     "slide_type": "slide"
    },
    "tags": []
   },
   "source": [
    "<h1 align='center'>Break </h1>"
   ]
  },
  {
   "cell_type": "markdown",
   "id": "fdf7eece-4b8c-4e7e-923a-44099c5195ee",
   "metadata": {
    "editable": true,
    "slideshow": {
     "slide_type": "slide"
    },
    "tags": []
   },
   "source": [
    "<h2 align='center'>Section 3: Introduction to GitHub actions</h2>"
   ]
  },
  {
   "cell_type": "markdown",
   "id": "039a39cb-404e-4925-a4fa-ee3590684491",
   "metadata": {
    "editable": true,
    "slideshow": {
     "slide_type": "slide"
    },
    "tags": []
   },
   "source": [
    "<h3 align='center'> What is GitHub Actions? </h3>\n",
    "GitHub Actions is a CI/CD (Continuous Integration/Continuous Deployment) tool integrated directly into the GitHub platform. \n",
    "\n",
    "It allows you to automate, customize, and execute your software development workflows right in your repository. \n",
    "\n",
    "Think of it as a powerful tool in your toolkit that can handle tasks like building, testing, and deploying your code."
   ]
  },
  {
   "cell_type": "markdown",
   "id": "7f583cc8-390d-480d-a0ce-fec12521befe",
   "metadata": {
    "editable": true,
    "slideshow": {
     "slide_type": "slide"
    },
    "tags": []
   },
   "source": [
    "<h3 align='center'> Why GitHub Actions? </h3>\n",
    "\n",
    "* **Integrated with GitHub:** No need for third-party platforms or integrations. Everything you need is right within GitHub.\n",
    "* **Flexibility:** Define workflows using simple YAML files. You can create tasks for almost any action you can think of, from sending emails to deploying applications.\n",
    "* **Matrix Builds:** Test your code on multiple versions of a language or various OS simultaneously.\n",
    "* **Rich Ecosystem:** Leverage the vast marketplace of pre-built actions created by the community, or create your own.\n",
    "* **Cost-Effective:** Generous free tier for public repositories, and competitive pricing for private ones."
   ]
  },
  {
   "cell_type": "markdown",
   "id": "fe7ece86-7b39-47b0-818f-838d835a3a21",
   "metadata": {
    "editable": true,
    "slideshow": {
     "slide_type": "slide"
    },
    "tags": []
   },
   "source": [
    "<h3 align='center'> Core Concepts </h3>\n",
    "\n",
    "* **Workflow:** A workflow is an automated procedure, defined by you. It can be triggered by various events like a push, pull request, or even on a schedule.\n",
    "* **Job:** A workflow can have multiple jobs. Jobs run in parallel by default, but can be configured to depend on one another.\n",
    "* **Step:** Each job has a series of steps. A step can be a set of commands to run, or an action from the marketplace.\n",
    "* **Action:** Reusable pieces of code. You can create your own or use actions created by others in the GitHub community."
   ]
  },
  {
   "cell_type": "markdown",
   "id": "e86b80f8-03c3-4cd6-a164-c9071380a7b8",
   "metadata": {
    "editable": true,
    "slideshow": {
     "slide_type": "slide"
    },
    "tags": []
   },
   "source": [
    "<h3 align='center'> Sample workflows </h3>\n",
    "\n",
    "**Workflow triggered by a push or pull request:**\n",
    "\n",
    "This workflow will be activated every time there's a push to the `main` branch. It's useful for continuous integration, ensuring that any new code pushed to the main branch passes all tests.\n",
    "\n",
    "`.github/workflows/on-push.yml`"
   ]
  },
  {
   "cell_type": "markdown",
   "id": "55524b64-a591-4589-b118-a97a1d853b90",
   "metadata": {
    "editable": true,
    "slideshow": {
     "slide_type": "slide"
    },
    "tags": []
   },
   "source": [
    "```yaml\n",
    "name: On Push/Pull Workflow to the main branch\n",
    "\n",
    "on:\n",
    "  push:\n",
    "    branches: [ \"main\" ]\n",
    "  pull_request:\n",
    "    branches: [ \"main\" ]\n",
    "\n",
    "permissions:\n",
    "  contents: read\n",
    "\n",
    "jobs:\n",
    "  build:\n",
    "    runs-on: ubuntu-latest\n",
    "\n",
    "    steps:\n",
    "    - uses: actions/checkout@v3\n",
    "    - name: Set up Python 3.10\n",
    "      uses: actions/setup-python@v3\n",
    "      with:\n",
    "        python-version: \"3.10\"\n",
    "```"
   ]
  },
  {
   "cell_type": "markdown",
   "id": "a14d177d-43db-4ca8-8ea9-a84a6f71016a",
   "metadata": {
    "editable": true,
    "slideshow": {
     "slide_type": "slide"
    },
    "tags": []
   },
   "source": [
    "**Workflow triggered on a schedule:**\n",
    "\n",
    "This workflow runs at a scheduled time, for example, every day at 2 AM. It's useful for routine tasks like daily builds or regular data updates.\n",
    "\n",
    "`.github/workflows/scheduled.yml`\n",
    "\n"
   ]
  },
  {
   "cell_type": "markdown",
   "id": "ad04ae34-9b8a-46e2-8ae5-01318233b802",
   "metadata": {
    "editable": true,
    "slideshow": {
     "slide_type": "slide"
    },
    "tags": []
   },
   "source": [
    "```yaml\n",
    "name: Scheduled Workflow\n",
    "\n",
    "on:\n",
    "  schedule:\n",
    "    - cron: '0 2 * * *'  # This means 2 AM every day\n",
    "\n",
    "jobs:\n",
    "  routine-task:\n",
    "    runs-on: ubuntu-latest\n",
    "\n",
    "    steps:\n",
    "    - name: Checkout code\n",
    "      uses: actions/checkout@v3\n",
    "\n",
    "    - name: Execute routine task\n",
    "      run: |\n",
    "        # Your commands for the routine task\n",
    "```\n"
   ]
  },
  {
   "cell_type": "markdown",
   "id": "90fdedff-d435-4c69-a573-a087873b08ff",
   "metadata": {
    "editable": true,
    "slideshow": {
     "slide_type": "slide"
    },
    "tags": []
   },
   "source": [
    "<h2 align='center'>Section 4: CI/CD of ETL Processes with GitHub Actions </h2>\n",
    "\n",
    "One of the key uses of GitHub actions is the automation of testing, and in particular, the automation of the process known as Continuous Integration, Continuous Deployment. \n",
    "\n",
    "Key steps:\n",
    "1. Set up testing for your pipeline\n",
    "2. Set up GitHub action: include environment setup, testing of application, mechanism of deployment\n",
    "3. Create a new branch, make commits, create a PR to the `main` branch.\n",
    "\n",
    "\n",
    "![](images/cicd.jpg)"
   ]
  },
  {
   "cell_type": "markdown",
   "id": "a377a2bc-9956-4d93-8950-b2acb6325f79",
   "metadata": {
    "editable": true,
    "slideshow": {
     "slide_type": "slide"
    },
    "tags": []
   },
   "source": [
    "<h3 align='center'> Sample testing with pytest</h3>\n",
    "\n",
    "We can create a `tests/` folder at the root level of our GitHub repository. Some sample tests:\n",
    "\n",
    "`test_download`: this will mimic the first stage in our data pipeline\n",
    "\n",
    "```python\n",
    "import pytest\n",
    "from unittest.mock import patch, Mock\n",
    "import unittest\n",
    "from pipeline.etl.extractdata import MarketData  \n",
    "\n",
    "@pytest.fixture\n",
    "def market_data():\n",
    "    url = \"https://tinyurl.com/jb-bank-m\"\n",
    "    output_folder = \"test_output\"\n",
    "    return MarketData(url, output_folder)\n",
    "```"
   ]
  },
  {
   "cell_type": "markdown",
   "id": "5f62a279-20cc-44db-8553-79db0954544d",
   "metadata": {
    "editable": true,
    "slideshow": {
     "slide_type": "slide"
    },
    "tags": []
   },
   "source": [
    "<h3 align='center'> Sample testing with pytest</h3>\n",
    "\n",
    "`test_download`: this will mimic the first stage in our data pipeline\n",
    "\n",
    "```python\n",
    "def test_extract(market_data):\n",
    "    with patch('urllib.request.urlretrieve', return_value=('path_to_zip', None)) as MockUrlRetrieve, \\\n",
    "         patch('zipfile.ZipFile') as MockZip:\n",
    "\n",
    "        mock_zip = Mock()\n",
    "        MockZip.return_value.__enter__.return_value = mock_zip\n",
    "\n",
    "        result = market_data.extract()\n",
    "\n",
    "        MockUrlRetrieve.assert_called_once_with(market_data.url)\n",
    "        MockZip.assert_called_once_with('path_to_zip', 'r')\n",
    "        mock_zip.extractall.assert_called_once_with(market_data.output_folder)\n",
    "        assert result == mock_zip\n",
    "```"
   ]
  },
  {
   "cell_type": "markdown",
   "id": "671d2840-2424-4f0b-a5bf-4ab03ed436b5",
   "metadata": {
    "editable": true,
    "slideshow": {
     "slide_type": "slide"
    },
    "tags": []
   },
   "source": [
    "<h3 align='center'> Running the tests locally</h3>\n",
    "\n",
    "From our local computer, at the root level of our repository, we can run:\n",
    "\n",
    "```bash\n",
    "$ poetry run pytest\n",
    "```\n",
    "\n",
    "```bash\n",
    "======================================= 2 passed in 0.05s =======================================\n",
    "(etl-env) macpros-MacBook-Pro:automate-elt-github macpro$ poetry run pytest\n",
    "====================================== test session starts ======================================\n",
    "platform darwin -- Python 3.10.0, pytest-7.4.2, pluggy-1.3.0\n",
    "rootdir: /Users/macpro/Documents/GitHub/automate-elt-github\n",
    "plugins: anyio-4.0.0\n",
    "collected 2 items                                                                               \n",
    "\n",
    "tests/test_download.py ..                                                                 [100%]\n",
    "\n",
    "======================================= 2 passed in 0.05s =======================================\n",
    "```"
   ]
  },
  {
   "cell_type": "markdown",
   "id": "1eca8a5f-a077-492f-8bc4-76b7bdbe649c",
   "metadata": {
    "editable": true,
    "slideshow": {
     "slide_type": "slide"
    },
    "tags": []
   },
   "source": [
    "<h3 align='center'> Adding testing to GitHub actions</h3>\n",
    "\n",
    "```yaml\n",
    "...\n",
    "\n",
    "- name: Install dependencies\n",
    "      run: |\n",
    "        python -m pip install --upgrade pip\n",
    "        pip install poetry \n",
    "        poetry lock\n",
    "        poetry install --no-root\n",
    "    - name: Set PYTHONPATH and Test with pytest  \n",
    "      run: |\n",
    "        export PYTHONPATH=$PYTHONPATH:$GITHUB_WORKSPACE/automate-elt-github/\n",
    "        poetry run pytest\n",
    "```"
   ]
  },
  {
   "cell_type": "markdown",
   "id": "f9375787-f188-4570-be20-ffb650c862a3",
   "metadata": {
    "editable": true,
    "slideshow": {
     "slide_type": "slide"
    },
    "tags": []
   },
   "source": [
    "<h3 align='center'>Hands-on exercise</h3>\n",
    "\n",
    "In your cloned fork of the repo, add a complete GitHub action under `.github/workflows` called `mytest.yaml` that will run the tests when:\n",
    "\n",
    "1. Pushing to the `main` branch\n",
    "2. Creating a PR to the `main` branch\n",
    "3. It should have `read` permissions\n",
    "4. It has a job that installs Poetry and all modules in this repo\n",
    "5. It has a job that runs the tests\n"
   ]
  },
  {
   "cell_type": "markdown",
   "id": "0aac8885-ee33-416f-9492-ac353a372849",
   "metadata": {
    "editable": true,
    "slideshow": {
     "slide_type": "slide"
    },
    "tags": []
   },
   "source": [
    "<h2 align='center'>Section 5: Deploying your ETL/ELT pipeline to Amazon Redshift  </h2>\n",
    "\n",
    "Amazon Redshift uses SQL to analyze structured and semi-structured data across data warehouses, operational databases, and data lakes, using AWS-designed hardware and machine learning to deliver the best price performance at any scale.\n",
    "\n",
    "![](images/redshift.png)\n"
   ]
  },
  {
   "cell_type": "markdown",
   "id": "9845f4f9-7fd9-4e39-919e-ccd6827a1de6",
   "metadata": {
    "editable": true,
    "slideshow": {
     "slide_type": "slide"
    },
    "tags": []
   },
   "source": [
    "# <h3 align='center'>Adding Redshift data population to our pipeline</h3>\n",
    "\n",
    "Let's explore `redshift-data-population.ipynb`\n",
    "\n",
    "https://github.com/lfunderburk/automate-elt-github/blob/main/pipeline/etl/redshift-data-population.ipynb\n",
    "\n",
    "We can populate a Redshift instance, provided we have:\n",
    "\n",
    "```bash\n",
    "REDSHIFT_USERNAME = \"your-username\"\n",
    "REDSHIFT_PASSWORD = \"your-password\"\n",
    "REDSHIFT_HOST = \"default-workgroup.your-iam-role.your-zone.redshift-serverless.amazonaws.com\"\n",
    "IAM_role = \"arn:aws:iam::your-iam-role:role/redshift-your-role-space\"\n",
    "```\n",
    "\n",
    "We can define the above as environment variables, for example in an `.env` file. \n",
    "\n",
    "**We can then store these variables as secrets on GitHub**"
   ]
  },
  {
   "cell_type": "markdown",
   "id": "3f563888-980a-4cc5-aa7e-9ae655abf82c",
   "metadata": {
    "editable": true,
    "slideshow": {
     "slide_type": "slide"
    },
    "tags": []
   },
   "source": [
    "```yaml\n",
    "name: Routine Data Fetch and Push to Redshift\n",
    "\n",
    "on:\n",
    "  schedule:\n",
    "    - cron: '0 2 * * *'  # This means 2 AM every day\n",
    "\n",
    "jobs:\n",
    "  fetch-and-push:\n",
    "    runs-on: ubuntu-latest\n",
    "\n",
    "    steps:\n",
    "    - uses: actions/checkout@v3\n",
    "    - name: Set up Python 3.10\n",
    "      uses: actions/setup-python@v3\n",
    "      with:\n",
    "        python-version: \"3.10\"\n",
    "\n",
    "    - name: Install Poetry using pip\n",
    "      run: |\n",
    "        python -m pip install poetry\n",
    "\n",
    "    - name: Install dependencies using Poetry\n",
    "      run: |\n",
    "        poetry install\n",
    "\n",
    "    - name: Run Ploomber pipeline to fetch and push data to Redshift\n",
    "      env:\n",
    "        REDSHIFT_USERNAME: ${{ secrets.REDSHIFT_USER }}\n",
    "        REDSHIFT_PASSWORD: ${{ secrets.REDSHIFT_PASS }}\n",
    "        REDSHIFT_HOST: ${{ secrets.REDSHIFT_HOST }}\n",
    "        IAM_role: ${{ secrets.IAM_role }}\n",
    "      run: |\n",
    "        cd pipeline\n",
    "        poetry run ploomber build\n",
    "\n",
    "```"
   ]
  },
  {
   "cell_type": "markdown",
   "id": "57a3ef20-50b4-4a54-bb5a-e0b5a0270e73",
   "metadata": {
    "editable": true,
    "slideshow": {
     "slide_type": "slide"
    },
    "tags": []
   },
   "source": [
    "<h3 align='center'>Final thoughts</h3>\n",
    "\n",
    "In this workshop we learned:\n",
    "\n",
    "1. We can enable interactive data extraction and wrangling with SQL through JupySQL\n",
    "2. We can orchestrate Python scripts and Jupyter notebooks through Ploomber pipelines\n",
    "3. We can perform automated testing and CI/CD through GitHub actions\n",
    "4. We can deploy our pipelines to cloud service providers, such as Amazon Redshift, through a combination of Ploomber and GitHub actions"
   ]
  }
 ],
 "metadata": {
  "kernelspec": {
   "display_name": "Python etl-env",
   "language": "python",
   "name": "etl-env"
  },
  "language_info": {
   "codemirror_mode": {
    "name": "ipython",
    "version": 3
   },
   "file_extension": ".py",
   "mimetype": "text/x-python",
   "name": "python",
   "nbconvert_exporter": "python",
   "pygments_lexer": "ipython3",
   "version": "3.10.0"
  },
  "toc": {
   "base_numbering": 1
  }
 },
 "nbformat": 4,
 "nbformat_minor": 5
}
