{
 "cells": [
  {
   "cell_type": "markdown",
   "id": "22980ad7-3bf7-42fb-85e5-7b98ed0fdb9b",
   "metadata": {
    "slideshow": {
     "slide_type": "slide"
    },
    "tags": []
   },
   "source": [
    "<h1 align='center'>Automatizando ELT con GitHub Actions</h1>\n",
    "\n",
    "<h4 align='center'>Laura G. Funderburk </h4>\n",
    "\n",
    "<h4 align='center'>Repo: https://github.com/lfunderburk/automate-elt-github/ </h4>"
   ]
  },
  {
   "cell_type": "markdown",
   "id": "7128d61b-85d5-4908-ba86-b456ba426d52",
   "metadata": {
    "slideshow": {
     "slide_type": "slide"
    },
    "tags": []
   },
   "source": [
    "<h3 align='center'>Herramientas con las que trabajaremos durante este taller</h3>\n",
    "\n",
    "* Tipos de bases de datos: DuckDB y Amazon Redshift\n",
    "* Herramientas para Análisis Exploratorio de Datos (EDA): Cuadernos Jupyter y JupySQL\n",
    "* Diseño y orquestación de pipelines: Archivos YAML y Ploomber\n",
    "* Integración Continua y Despliegue Continuo (CI/CD): introduciremos cómo configurar GitHub Actions y cómo estructurarlos.\n",
    "\n",
    "**Puedes modificar los pasos anteriores para trabajar con tus tipos de bases de datos preferidos y métodos de orquestación de pipelines**"
   ]
  },
  {
   "cell_type": "markdown",
   "id": "7f0218b1-e486-4791-b09c-65212223fb6d",
   "metadata": {
    "slideshow": {
     "slide_type": "slide"
    },
    "tags": []
   },
   "source": [
    "<h3 align='center'>Pipeline ejemplo</h3>\n",
    "\n",
    "\n",
    "![](images/etl-diagram.jpg)"
   ]
  },
  {
   "cell_type": "markdown",
   "id": "157a8c97-b037-4b22-9330-501b64c03983",
   "metadata": {
    "slideshow": {
     "slide_type": "slide"
    },
    "tags": []
   },
   "source": [
    "<h2 align='center'>Sección 1: Introducción a ELT </h2>\n"
   ]
  },
  {
   "cell_type": "markdown",
   "id": "dfe52f0e-9009-4896-bec9-7f5e621bc3b5",
   "metadata": {
    "slideshow": {
     "slide_type": "slide"
    },
    "tags": []
   },
   "source": [
    "<h3 align='center'>¿Qué es ELT?</h3>\n",
    "\n",
    "ETL significa Extracción, Carga (Load) y Transformación.\n",
    "\n",
    "* Extraes datos brutos de varias fuentes\n",
    "* Los cargas en su estado natural en un almacén de datos o lago de datos\n",
    "* Lo transformas según sea necesario mientras está en el sistema objetivo\n",
    "\n",
    "Con ELT, toda la limpieza, transformación y enriquecimiento de datos ocurre dentro del almacén de datos. Puedes interactuar y transformar los datos brutos tantas veces como sea necesario."
   ]
  },
  {
   "cell_type": "markdown",
   "id": "9105eb36-c384-40ad-b230-84c7e0b34c8f",
   "metadata": {
    "slideshow": {
     "slide_type": "slide"
    },
    "tags": []
   },
   "source": [
    "<h3 align='center'> ¿Por qué es importante ETL?</h3>\n",
    "\n",
    "Los procesos ETL son cruciales para el análisis de datos y la inteligencia empresarial. Aseguran que los datos sean precisos, consistentes y estén disponibles de manera oportuna para el análisis.\n"
   ]
  },
  {
   "cell_type": "markdown",
   "id": "888946d9-7c64-4a9e-99ed-365a6afe85ab",
   "metadata": {
    "slideshow": {
     "slide_type": "slide"
    },
    "tags": []
   },
   "source": [
    "<h3 align='center'> ELT vs ETL</h3>\n",
    "\n",
    "Extraer, transformar y cargar (ETL) y extraer, cargar y transformar (ELT) son dos enfoques de procesamiento de datos para análisis.\n",
    "\n",
    "El enfoque ETL utiliza un conjunto de reglas empresariales para procesar datos de varias fuentes antes de la integración centralizada.\n",
    "\n",
    "El enfoque ELT carga los datos tal como están y los transforma en una etapa posterior, dependiendo del caso de uso y los requisitos analíticos.\n"
   ]
  },
  {
   "cell_type": "markdown",
   "id": "1d8a5bd0-e943-4943-ad3b-86bd233d835c",
   "metadata": {
    "slideshow": {
     "slide_type": "slide"
    },
    "tags": []
   },
   "source": [
    "<h3 align='center'> Resumen de JupySQL</h3>\n",
    "\n",
    "JupySQL es una extensión de Jupyter diseñada para hacer que los procesos ETL basados en SQL sean fluidos dentro de los cuadernos Jupyter. Con JupySQL, puedes:\n",
    "\n",
    "* Ejecutar consultas SQL directamente desde tu cuaderno Jupyter.\n",
    "* Integrar resultados SQL con código Python y bibliotecas como Pandas.\n",
    "* Visualizar los resultados de la consulta SQL utilizando las capacidades de visualización de Jupyter."
   ]
  },
  {
   "cell_type": "markdown",
   "id": "e9ef2608-fedb-44d0-8cdf-b9d910e8a627",
   "metadata": {
    "slideshow": {
     "slide_type": "slide"
    },
    "tags": []
   },
   "source": [
    "<h3 align='center'> Beneficios de JupySQL</h3>\n",
    "\n",
    "* Simplicidad: No es necesario cambiar entre herramientas SQL y Jupyter. Todo se puede hacer en un solo lugar.\n",
    "* Flexibilidad: Combina el poder de SQL con las capacidades de manipulación de datos de Python.\n",
    "* Compatibilidad: JupySQL es compatible con todas las principales bases de datos (por ejemplo, PostgreSQL, MySQL, SQL Server), almacenes de datos (por ejemplo, Snowflake, BigQuery, Redshift) y motores integrados (SQLite y DuckDB).\n"
   ]
  },
  {
   "cell_type": "markdown",
   "id": "f18437c6-7763-44c3-aa61-daee92e9a430",
   "metadata": {
    "slideshow": {
     "slide_type": "slide"
    },
    "tags": []
   },
   "source": [
    "<h3 align='center'> Resumen de DuckDB</h3>\n",
    "\n",
    "DuckDB es un sistema de gestión de bases de datos (DBMS) de procesamiento analítico en línea (OLAP) relacional, incrustado, en proceso, gratuito y de código abierto.\n",
    "\n",
    "* Las características de DBMS se ejecutan desde dentro de la aplicación a la que estás intentando acceder en lugar de un proceso externo al que se conecta tu aplicación.\n",
    "\n",
    "* OLAP significa que la base de datos está diseñada para análisis de datos.\n"
   ]
  },
  {
   "cell_type": "markdown",
   "id": "9f4a9322-3146-4711-a97c-0c654e96944d",
   "metadata": {
    "slideshow": {
     "slide_type": "slide"
    },
    "tags": []
   },
   "source": [
    "<h3 align='center'> Resumen de Amazon Redshift</h3>\n",
    "\n",
    "AWS Redshift es un servicio de almacenamiento de datos a escala de petabytes basado en la nube ofrecido como una de las soluciones de datos del ecosistema de Amazon.\n",
    "\n",
    "Es un sistema de gestión de bases de datos relacionales (RDBMS) y un tipo de sistema de base de datos OLAP."
   ]
  },
  {
   "cell_type": "markdown",
   "id": "133946e4-e1d4-46b5-90bd-b3946f3f3344",
   "metadata": {
    "slideshow": {
     "slide_type": "slide"
    },
    "tags": []
   },
   "source": [
    "<h3 align='center'> OLAP vs OLTP</h3>\n",
    "\n",
    "$\\Rightarrow$ ¿Cómo se almacenan los datos?\n",
    "\n",
    "Las bases de datos OLTP comúnmente almacenan datos por **registros** asegurando que todos los datos asociados con un registro se almacenen juntos en memoria. También están optimizadas para leer y escribir filas de manera eficiente.\n",
    "\n",
    "Las bases de datos OLAP están comúnmente orientadas por **columnas**, lo que significa que los datos están organizados por columnas. Todos los datos asociados con una columna se almacenan cerca uno del otro en memoria, y la base de datos está optimizada para leer y calcular en las columnas de manera eficiente."
   ]
  },
  {
   "cell_type": "markdown",
   "id": "6e5c8901-9fe0-4ad5-a388-d92843586ef7",
   "metadata": {
    "slideshow": {
     "slide_type": "slide"
    },
    "tags": []
   },
   "source": [
    "<h3 align='center'> Datos con los que trabajaremos </h3>\n",
    "\n",
    "\n",
    "```{important}\n",
    "Source: UCI Machine Learning Repository\n",
    "\n",
    "URL: https://web.archive.org/web/20070214120527/http://lisp.vse.cz/pkdd99/DATA/data_berka.zip\n",
    "\n",
    "```"
   ]
  },
  {
   "cell_type": "markdown",
   "id": "ec2f2cbe-e0cf-47f8-9494-244ae64aadd5",
   "metadata": {
    "slideshow": {
     "slide_type": "slide"
    },
    "tags": []
   },
   "source": [
    "<h2 align='center'>Sección 2: Ejemplo de trabajo de extracción, carga y manipulación de datos</h2>"
   ]
  },
  {
   "cell_type": "markdown",
   "id": "658900be-2b74-4d5c-b49b-5ad0c64491eb",
   "metadata": {
    "slideshow": {
     "slide_type": "slide"
    },
    "tags": []
   },
   "source": [
    "<h3 align='center'> Extracción de datos </h3>\n",
    "\n",
    "Podemos configurar un script simple para extraer los datos con Python. Los datos se pueden extraer a través de una URL que descargará una carpeta .zip.\n",
    "\n",
    "Los pasos clave en la extracción son:\n",
    "\n",
    "1. Descargar los datos a través de urllib.request\n",
    "2. Descomprimir el contenido de la carpeta descargada\n",
    "3. Escribir el contenido de la carpeta en archivos\n"
   ]
  },
  {
   "cell_type": "markdown",
   "id": "6e4aeda7-c7e8-463b-a0fb-826c40151982",
   "metadata": {
    "slideshow": {
     "slide_type": "slide"
    },
    "tags": []
   },
   "source": [
    "<h3 align='center'> Descarga y extracción de datos</h3>\n",
    "\n",
    "Recomendación: crea un script extractdata.py con tus funciones para extraer y analizar los datos. Echemos un vistazo a un script de muestra.\n",
    "\n",
    "https://github.com/lfunderburk/automate-elt-github/blob/main/pipeline/etl/extractdata.py"
   ]
  },
  {
   "cell_type": "markdown",
   "id": "93a0c24b-ad1a-45e2-9f76-20a512a3a739",
   "metadata": {
    "slideshow": {
     "slide_type": "slide"
    },
    "tags": []
   },
   "source": [
    "<h3 align='center'>Inicializando el proceso de orquestación del pipeline</h3>\n",
    "\n",
    "\n",
    "Para este taller, empaquetaré mis pipelines con Ploomber, lo que me permite combinar scripts de Python, scripts de SQL e incluso cuadernos Jupyter como parte del pipeline.\n",
    "\n",
    "En el núcleo de los pipelines de Ploomber están los archivos yaml. Aquí se puede encontrar un ejemplo de pipeline:"
   ]
  },
  {
   "cell_type": "markdown",
   "id": "f61e976d-8510-4e40-ad5d-7f455d93457d",
   "metadata": {
    "slideshow": {
     "slide_type": "slide"
    },
    "tags": []
   },
   "source": [
    "El archivo `pipeline.yaml`:\n",
    "\n",
    "```yaml\n",
    "tasks:\n",
    "  - source: etl/extractdata.py\n",
    "    product:\n",
    "      nb: products/extract-pipeline.ipynb\n",
    "```\n"
   ]
  },
  {
   "cell_type": "markdown",
   "id": "327b409a-da79-42ab-8ba6-32a342d9926d",
   "metadata": {
    "slideshow": {
     "slide_type": "slide"
    },
    "tags": []
   },
   "source": [
    "<h3 align='center'>Estructura del directorio - antes de ejecutar el pipeline</h3>\n",
    "\n",
    "```bash\n",
    "pipeline/\n",
    "├──pipeline.yaml\n",
    "├──pyproject.toml\n",
    "├──README.md\n",
    "├──etl/\n",
    "├──├── extractdata.py\n",
    "├──products/\n",
    "```"
   ]
  },
  {
   "cell_type": "markdown",
   "id": "60cee19e-9167-404f-9c16-eba9a7eecc36",
   "metadata": {
    "slideshow": {
     "slide_type": "slide"
    },
    "tags": []
   },
   "source": [
    "<h3 align='center'>Ejecutando el pipeline</h3>\n",
    "\n",
    "```bash\n",
    "$ cd pipeline/\n",
    "$ poetry run ploomber build\n",
    "```\n",
    "\n",
    "This yields:\n",
    "\n",
    "```bash\n",
    "Loading pipeline...\n",
    "Executing: 100%|█████████████████████████████████████████████████████████████████| 5/5 [00:09<00:00,  1.87s/cell]\n",
    "Building task 'extractdata': 100%|█████████████████████████████████████████████████| 1/1 [00:09<00:00,  9.34s/it]\n",
    "name         Ran?      Elapsed (s)    Percentage\n",
    "-----------  ------  -------------  ------------\n",
    "extractdata  True          9.33752           100\n",
    "```"
   ]
  },
  {
   "cell_type": "markdown",
   "id": "6c7c5dc2-2cc7-45a4-ace4-ea83dd3168b5",
   "metadata": {
    "slideshow": {
     "slide_type": "slide"
    },
    "tags": []
   },
   "source": [
    "<h3 align='center'>Estructura del directorio - después de ejecutar el pipeline</h3>\n",
    "\n",
    "```\n",
    "pipeline/\n",
    "├──pipeline.yaml\n",
    "├──pyproject.toml\n",
    "├──README.md\n",
    "├──etl/\n",
    "├──├── extractdata.py\n",
    "├──├── expanded_data/\n",
    "├──├──├── file_1.csv\n",
    "├──├──├── file_2.csv\n",
    "├──├──├── ...\n",
    "├──products/\n",
    "├──├── extract-pipeline.ipynb\n",
    "├──├── extract-pipeline.ipynb.metadata\n",
    "```"
   ]
  },
  {
   "cell_type": "markdown",
   "id": "907f75d9-dd81-4a9b-b8d8-3cae13ba760e",
   "metadata": {
    "slideshow": {
     "slide_type": "slide"
    },
    "tags": []
   },
   "source": [
    "<h2 align='center'>Objetivo: mejorar este pipeline para cargar los datos en una base de datos y transformarlos aún más usando SQL</h2>\n"
   ]
  },
  {
   "cell_type": "markdown",
   "id": "55de9df2-68a0-4cb6-9682-3d1ae0654dc7",
   "metadata": {
    "slideshow": {
     "slide_type": "slide"
    },
    "tags": []
   },
   "source": [
    "<h3 align='center'> Cargando los datos extraídos, luego transformando en una instancia de DuckDB</h3>\n",
    "\n",
    "Ahora podemos poblar una base de datos. Usaremos JupySQL para poblar una base de datos con los datos brutos y luego transformarlos.\n",
    "\n",
    "Aquí hay un cuaderno Jupyter de muestra que une las tablas\n",
    "\n",
    "https://github.com/lfunderburk/automate-elt-github/blob/main/pipeline/etl/wrangle-data.ipynb"
   ]
  },
  {
   "cell_type": "markdown",
   "id": "6b7e67cc-882c-4ad3-874b-173bb8fed529",
   "metadata": {
    "slideshow": {
     "slide_type": "slide"
    },
    "tags": []
   },
   "source": [
    "Luego expandiremos el pipeline y verificaremos nuestros resultados.\n",
    "```yaml\n",
    "tasks:\n",
    "  - source: etl/extractdata.py\n",
    "    product:\n",
    "      nb: products/extract-pipeline.ipynb\n",
    "  - source: etl/wrangle-data.ipynb\n",
    "    product:\n",
    "      nb: products/wrangle-data-pipeline.ipynb\n",
    "      data: etl/bank_data.duck.db\n",
    "```\n",
    "\n"
   ]
  },
  {
   "cell_type": "markdown",
   "id": "0c84c84e-8d7e-4c8b-8bec-c8d57bab9457",
   "metadata": {
    "slideshow": {
     "slide_type": "slide"
    },
    "tags": []
   },
   "source": [
    "Ejecuta el pipeline\n",
    "\n",
    "```bash\n",
    "$ poetry run ploomber build\n",
    "\n",
    "Executing:  56%|████████████████████                | 5/9 [00:03<00:02,  1.44cell/s]\n",
    "Building task 'wrangle-data': 100%|███████████████████| 1/1 [00:03<00:00,  3.49s/it]\n",
    "name          Ran?      Elapsed (s)    Percentage\n",
    "------------  ------  -------------  ------------\n",
    "wrangle-data  True          3.48937           100\n",
    "extractdata   False         0                   0\n",
    "```"
   ]
  },
  {
   "cell_type": "markdown",
   "id": "468ebdbc-55fb-406c-a957-449273428f77",
   "metadata": {
    "slideshow": {
     "slide_type": "slide"
    },
    "tags": []
   },
   "source": [
    "<h3 align='center'>  EDA (analisis de datos exploratorio) dentro de Jupyter con JupySQL</h3>\n",
    "\n"
   ]
  },
  {
   "cell_type": "code",
   "execution_count": 1,
   "id": "792cc263-3cd4-4a97-aa6f-ab5d59422930",
   "metadata": {
    "slideshow": {
     "slide_type": "fragment"
    },
    "tags": []
   },
   "outputs": [
    {
     "data": {
      "text/html": [
       "<span style=\"None\">Found pyproject.toml from &#x27;/Users/macpro/Documents/GitHub/automate-elt-github&#x27;</span>"
      ],
      "text/plain": [
       "Found pyproject.toml from '/Users/macpro/Documents/GitHub/automate-elt-github'"
      ]
     },
     "metadata": {},
     "output_type": "display_data"
    },
    {
     "data": {
      "text/html": [
       "<span style=\"None\">Settings changed:</span>"
      ],
      "text/plain": [
       "Settings changed:"
      ]
     },
     "metadata": {},
     "output_type": "display_data"
    },
    {
     "data": {
      "text/html": [
       "\n",
       "<table>\n",
       "    <thead>\n",
       "        <tr>\n",
       "            <th>Config</th>\n",
       "            <th>value</th>\n",
       "        </tr>\n",
       "    </thead>\n",
       "    <tbody>\n",
       "        <tr>\n",
       "            <td>displaycon</td>\n",
       "            <td>False</td>\n",
       "        </tr>\n",
       "        <tr>\n",
       "            <td>feedback</td>\n",
       "            <td>True</td>\n",
       "        </tr>\n",
       "        <tr>\n",
       "            <td>autopandas</td>\n",
       "            <td>True</td>\n",
       "        </tr>\n",
       "        <tr>\n",
       "            <td>named_parameters</td>\n",
       "            <td>True</td>\n",
       "        </tr>\n",
       "    </tbody>\n",
       "</table>"
      ],
      "text/plain": [
       "\n",
       "+------------------+-------+\n",
       "|      Config      | value |\n",
       "+------------------+-------+\n",
       "|    displaycon    | False |\n",
       "|     feedback     |  True |\n",
       "|    autopandas    |  True |\n",
       "| named_parameters |  True |\n",
       "+------------------+-------+"
      ]
     },
     "metadata": {},
     "output_type": "display_data"
    }
   ],
   "source": [
    "# Loading in SQL extension\n",
    "%reload_ext sql\n",
    "# Initiating a DuckDB database named 'bank_data.duck.db' to run SQL queries\n",
    "%sql duckdb:///../bank_data.duck.db"
   ]
  },
  {
   "cell_type": "code",
   "execution_count": 2,
   "id": "a5b71426-6004-4fc9-86fa-1d7870130e17",
   "metadata": {
    "slideshow": {
     "slide_type": "fragment"
    },
    "tags": []
   },
   "outputs": [
    {
     "data": {
      "text/html": [
       "<table>\n",
       "    <thead>\n",
       "        <tr>\n",
       "            <th>Name</th>\n",
       "        </tr>\n",
       "    </thead>\n",
       "    <tbody>\n",
       "        <tr>\n",
       "            <td>client_account_district</td>\n",
       "        </tr>\n",
       "        <tr>\n",
       "            <td>account_trans_order</td>\n",
       "        </tr>\n",
       "    </tbody>\n",
       "</table>"
      ],
      "text/plain": [
       "+-------------------------+\n",
       "|           Name          |\n",
       "+-------------------------+\n",
       "| client_account_district |\n",
       "|   account_trans_order   |\n",
       "+-------------------------+"
      ]
     },
     "execution_count": 2,
     "metadata": {},
     "output_type": "execute_result"
    }
   ],
   "source": [
    "%sqlcmd tables"
   ]
  },
  {
   "cell_type": "markdown",
   "id": "30dc2265-382a-4053-bb3c-46589d2c8c5f",
   "metadata": {
    "slideshow": {
     "slide_type": "slide"
    },
    "tags": []
   },
   "source": [
    "<h3 align='center'> Perfil de datos </h3>\n"
   ]
  },
  {
   "cell_type": "code",
   "execution_count": 3,
   "id": "b2616973-b2f3-4d39-be89-6167eedc4c10",
   "metadata": {
    "slideshow": {
     "slide_type": "fragment"
    },
    "tags": []
   },
   "outputs": [
    {
     "data": {
      "text/html": [
       "<div style='position: sticky; left: 0; padding: 10px; font-size: 12px; color: #FFA500'><strong></strong> </div><style>\n",
       " #profile-table td:first-child {\n",
       "  position: sticky;\n",
       "  left: 0;\n",
       "  background-color: var(--jp-cell-editor-background);\n",
       "  font-weight: bold;\n",
       "}\n",
       " #profile-table thead tr th:first-child {\n",
       "  position: sticky;\n",
       "  left: 0;\n",
       "  background-color: var(--jp-cell-editor-background);\n",
       "  font-weight: bold; /* Adding bold text */\n",
       "}\n",
       "            </style><style></style><table id=\"profile-table-e6ae54d89a7e4830bf19760efbc06b3e\">\n",
       "    <thead>\n",
       "        <tr>\n",
       "            <th> </th>\n",
       "            <th>account_id</th>\n",
       "            <th>frequency</th>\n",
       "            <th>account_creation_date</th>\n",
       "            <th>trans_id</th>\n",
       "            <th>transaction_date</th>\n",
       "            <th>transaction_type</th>\n",
       "            <th>operation</th>\n",
       "            <th>transaction_amount</th>\n",
       "            <th>balance</th>\n",
       "            <th>order_id</th>\n",
       "            <th>bank_to</th>\n",
       "            <th>account_to</th>\n",
       "            <th>order_amount</th>\n",
       "        </tr>\n",
       "    </thead>\n",
       "    <tbody>\n",
       "        <tr>\n",
       "            <td>count</td>\n",
       "            <td>1715140</td>\n",
       "            <td>1715140</td>\n",
       "            <td>1715140</td>\n",
       "            <td>1715140</td>\n",
       "            <td>1715140</td>\n",
       "            <td>1715140</td>\n",
       "            <td>1448066</td>\n",
       "            <td>1715140</td>\n",
       "            <td>1715140</td>\n",
       "            <td>1715140</td>\n",
       "            <td>1715140</td>\n",
       "            <td>1715140</td>\n",
       "            <td>1715140</td>\n",
       "        </tr>\n",
       "        <tr>\n",
       "            <td>unique</td>\n",
       "            <td>3758</td>\n",
       "            <td>3</td>\n",
       "            <td>1468</td>\n",
       "            <td>913010</td>\n",
       "            <td>2191</td>\n",
       "            <td>3</td>\n",
       "            <td>5</td>\n",
       "            <td>36147</td>\n",
       "            <td>494619</td>\n",
       "            <td>6471</td>\n",
       "            <td>13</td>\n",
       "            <td>6446</td>\n",
       "            <td>4412</td>\n",
       "        </tr>\n",
       "        <tr>\n",
       "            <td>top</td>\n",
       "            <td>nan</td>\n",
       "            <td>POPLATEK MESICNE</td>\n",
       "            <td>nan</td>\n",
       "            <td>nan</td>\n",
       "            <td>nan</td>\n",
       "            <td>VYDAJ</td>\n",
       "            <td>VYBER</td>\n",
       "            <td>nan</td>\n",
       "            <td>nan</td>\n",
       "            <td>nan</td>\n",
       "            <td>YZ</td>\n",
       "            <td>nan</td>\n",
       "            <td>nan</td>\n",
       "        </tr>\n",
       "        <tr>\n",
       "            <td>freq</td>\n",
       "            <td>nan</td>\n",
       "            <td>1566570</td>\n",
       "            <td>nan</td>\n",
       "            <td>nan</td>\n",
       "            <td>nan</td>\n",
       "            <td>1102627</td>\n",
       "            <td>634299</td>\n",
       "            <td>nan</td>\n",
       "            <td>nan</td>\n",
       "            <td>nan</td>\n",
       "            <td>139314</td>\n",
       "            <td>nan</td>\n",
       "            <td>nan</td>\n",
       "        </tr>\n",
       "        <tr>\n",
       "            <td>mean</td>\n",
       "            <td>3094.1083</td>\n",
       "            <td>nan</td>\n",
       "            <td>944777.5185</td>\n",
       "            <td>1331562.3713</td>\n",
       "            <td>965826.2771</td>\n",
       "            <td>nan</td>\n",
       "            <td>nan</td>\n",
       "            <td>5635.1784</td>\n",
       "            <td>38775.0580</td>\n",
       "            <td>33974.2133</td>\n",
       "            <td>nan</td>\n",
       "            <td>49244253.5220</td>\n",
       "            <td>3164.0519</td>\n",
       "        </tr>\n",
       "        <tr>\n",
       "            <td>std</td>\n",
       "            <td>2640.1109</td>\n",
       "            <td>nan</td>\n",
       "            <td>14117.7740</td>\n",
       "            <td>1214076.4248</td>\n",
       "            <td>13890.0655</td>\n",
       "            <td>nan</td>\n",
       "            <td>nan</td>\n",
       "            <td>9205.2246</td>\n",
       "            <td>21598.1211</td>\n",
       "            <td>3918.6348</td>\n",
       "            <td>nan</td>\n",
       "            <td>28917744.6902</td>\n",
       "            <td>2690.0998</td>\n",
       "        </tr>\n",
       "        <tr>\n",
       "            <td>min</td>\n",
       "            <td>1</td>\n",
       "            <td>nan</td>\n",
       "            <td>930101</td>\n",
       "            <td>1</td>\n",
       "            <td>930101</td>\n",
       "            <td>nan</td>\n",
       "            <td>nan</td>\n",
       "            <td>0.0</td>\n",
       "            <td>-35456.6</td>\n",
       "            <td>29401</td>\n",
       "            <td>nan</td>\n",
       "            <td>399</td>\n",
       "            <td>1.0</td>\n",
       "        </tr>\n",
       "        <tr>\n",
       "            <td>25%</td>\n",
       "            <td>1249.0000</td>\n",
       "            <td>nan</td>\n",
       "            <td>930728.0000</td>\n",
       "            <td>431994.0000</td>\n",
       "            <td>960126.0000</td>\n",
       "            <td>nan</td>\n",
       "            <td>nan</td>\n",
       "            <td>150.0000</td>\n",
       "            <td>22898.8000</td>\n",
       "            <td>31228.0000</td>\n",
       "            <td>nan</td>\n",
       "            <td>23890793.0000</td>\n",
       "            <td>1069.0000</td>\n",
       "        </tr>\n",
       "        <tr>\n",
       "            <td>50%</td>\n",
       "            <td>2493.0000</td>\n",
       "            <td>nan</td>\n",
       "            <td>940822.0000</td>\n",
       "            <td>859667.0000</td>\n",
       "            <td>970415.0000</td>\n",
       "            <td>nan</td>\n",
       "            <td>nan</td>\n",
       "            <td>1974.0000</td>\n",
       "            <td>33696.4000</td>\n",
       "            <td>33086.0000</td>\n",
       "            <td>nan</td>\n",
       "            <td>49547737.0000</td>\n",
       "            <td>2454.0000</td>\n",
       "        </tr>\n",
       "        <tr>\n",
       "            <td>75%</td>\n",
       "            <td>3751.0000</td>\n",
       "            <td>nan</td>\n",
       "            <td>960316.0000</td>\n",
       "            <td>2121552.0000</td>\n",
       "            <td>980228.0000</td>\n",
       "            <td>nan</td>\n",
       "            <td>nan</td>\n",
       "            <td>6388.0000</td>\n",
       "            <td>49760.4000</td>\n",
       "            <td>34928.0000</td>\n",
       "            <td>nan</td>\n",
       "            <td>73936581.0000</td>\n",
       "            <td>4545.0000</td>\n",
       "        </tr>\n",
       "        <tr>\n",
       "            <td>max</td>\n",
       "            <td>11362</td>\n",
       "            <td>nan</td>\n",
       "            <td>971229</td>\n",
       "            <td>3682987</td>\n",
       "            <td>981231</td>\n",
       "            <td>nan</td>\n",
       "            <td>nan</td>\n",
       "            <td>87400.0</td>\n",
       "            <td>209637.0</td>\n",
       "            <td>46338</td>\n",
       "            <td>nan</td>\n",
       "            <td>99994199</td>\n",
       "            <td>14882.0</td>\n",
       "        </tr>\n",
       "    </tbody>\n",
       "</table><div style='position: sticky; left: 0; padding: 10px; font-size: 12px; color: black; background-color: white;'><strong></strong> </div>"
      ],
      "text/plain": [
       "+--------+------------+------------------+-----------------------+--------------+------------------+------------------+-----------+--------------------+------------+------------+---------+---------------+--------------+\n",
       "|        | account_id |    frequency     | account_creation_date |   trans_id   | transaction_date | transaction_type | operation | transaction_amount |  balance   |  order_id  | bank_to |   account_to  | order_amount |\n",
       "+--------+------------+------------------+-----------------------+--------------+------------------+------------------+-----------+--------------------+------------+------------+---------+---------------+--------------+\n",
       "| count  |  1715140   |     1715140      |        1715140        |   1715140    |     1715140      |     1715140      |  1448066  |      1715140       |  1715140   |  1715140   | 1715140 |    1715140    |   1715140    |\n",
       "| unique |    3758    |        3         |          1468         |    913010    |       2191       |        3         |     5     |       36147        |   494619   |    6471    |    13   |      6446     |     4412     |\n",
       "|  top   |    nan     | POPLATEK MESICNE |          nan          |     nan      |       nan        |      VYDAJ       |   VYBER   |        nan         |    nan     |    nan     |    YZ   |      nan      |     nan      |\n",
       "|  freq  |    nan     |     1566570      |          nan          |     nan      |       nan        |     1102627      |   634299  |        nan         |    nan     |    nan     |  139314 |      nan      |     nan      |\n",
       "|  mean  | 3094.1083  |       nan        |      944777.5185      | 1331562.3713 |   965826.2771    |       nan        |    nan    |     5635.1784      | 38775.0580 | 33974.2133 |   nan   | 49244253.5220 |  3164.0519   |\n",
       "|  std   | 2640.1109  |       nan        |       14117.7740      | 1214076.4248 |    13890.0655    |       nan        |    nan    |     9205.2246      | 21598.1211 | 3918.6348  |   nan   | 28917744.6902 |  2690.0998   |\n",
       "|  min   |     1      |       nan        |         930101        |      1       |      930101      |       nan        |    nan    |        0.0         |  -35456.6  |   29401    |   nan   |      399      |     1.0      |\n",
       "|  25%   | 1249.0000  |       nan        |      930728.0000      | 431994.0000  |   960126.0000    |       nan        |    nan    |      150.0000      | 22898.8000 | 31228.0000 |   nan   | 23890793.0000 |  1069.0000   |\n",
       "|  50%   | 2493.0000  |       nan        |      940822.0000      | 859667.0000  |   970415.0000    |       nan        |    nan    |     1974.0000      | 33696.4000 | 33086.0000 |   nan   | 49547737.0000 |  2454.0000   |\n",
       "|  75%   | 3751.0000  |       nan        |      960316.0000      | 2121552.0000 |   980228.0000    |       nan        |    nan    |     6388.0000      | 49760.4000 | 34928.0000 |   nan   | 73936581.0000 |  4545.0000   |\n",
       "|  max   |   11362    |       nan        |         971229        |   3682987    |      981231      |       nan        |    nan    |      87400.0       |  209637.0  |   46338    |   nan   |    99994199   |   14882.0    |\n",
       "+--------+------------+------------------+-----------------------+--------------+------------------+------------------+-----------+--------------------+------------+------------+---------+---------------+--------------+"
      ]
     },
     "execution_count": 3,
     "metadata": {},
     "output_type": "execute_result"
    }
   ],
   "source": [
    "\"\"\"\n",
    "client_account_district\n",
    "account_trans_order\n",
    "\"\"\"\n",
    "%sqlcmd profile -t account_trans_order"
   ]
  },
  {
   "cell_type": "markdown",
   "id": "6d8140b7-eb21-4350-8687-240b604bcc79",
   "metadata": {
    "slideshow": {
     "slide_type": "slide"
    },
    "tags": []
   },
   "source": [
    "<h3 align='center'> ¿Qué distrito tiene el mayor número de emprendedores por cada 1000 habitantes? </h3>"
   ]
  },
  {
   "cell_type": "code",
   "execution_count": 4,
   "id": "c442be73-181c-4460-afe0-095123578f46",
   "metadata": {
    "slideshow": {
     "slide_type": "fragment"
    },
    "tags": []
   },
   "outputs": [
    {
     "data": {
      "text/html": [
       "<div>\n",
       "<style scoped>\n",
       "    .dataframe tbody tr th:only-of-type {\n",
       "        vertical-align: middle;\n",
       "    }\n",
       "\n",
       "    .dataframe tbody tr th {\n",
       "        vertical-align: top;\n",
       "    }\n",
       "\n",
       "    .dataframe thead th {\n",
       "        text-align: right;\n",
       "    }\n",
       "</style>\n",
       "<table border=\"1\" class=\"dataframe\">\n",
       "  <thead>\n",
       "    <tr style=\"text-align: right;\">\n",
       "      <th></th>\n",
       "      <th>district_name</th>\n",
       "      <th>no_of_entrepreneurs_per_1000_inhabitants</th>\n",
       "    </tr>\n",
       "  </thead>\n",
       "  <tbody>\n",
       "    <tr>\n",
       "      <th>0</th>\n",
       "      <td>Hl.m. Praha</td>\n",
       "      <td>167</td>\n",
       "    </tr>\n",
       "  </tbody>\n",
       "</table>\n",
       "</div>"
      ],
      "text/plain": [
       "  district_name  no_of_entrepreneurs_per_1000_inhabitants\n",
       "0   Hl.m. Praha                                       167"
      ]
     },
     "execution_count": 4,
     "metadata": {},
     "output_type": "execute_result"
    }
   ],
   "source": [
    "%%sql\n",
    "SELECT DISTINCT district_name, no_of_entrepreneurs_per_1000_inhabitants\n",
    "FROM client_account_district\n",
    "ORDER BY no_of_entrepreneurs_per_1000_inhabitants DESC\n",
    "LIMIT 1;"
   ]
  },
  {
   "cell_type": "markdown",
   "id": "48e7c6b7-28b4-4127-a81a-8425b1014e5f",
   "metadata": {
    "slideshow": {
     "slide_type": "slide"
    },
    "tags": []
   },
   "source": [
    "<h3 align='center'>¿Qué región tiene el salario promedio más alto?</h3>"
   ]
  },
  {
   "cell_type": "code",
   "execution_count": 5,
   "id": "0db5d99c-72f6-4f58-bc68-7b2c96032ba8",
   "metadata": {
    "slideshow": {
     "slide_type": "fragment"
    },
    "tags": []
   },
   "outputs": [
    {
     "data": {
      "text/html": [
       "<span style=\"None\">Skipping execution...</span>"
      ],
      "text/plain": [
       "Skipping execution..."
      ]
     },
     "metadata": {},
     "output_type": "display_data"
    }
   ],
   "source": [
    "%%sql --save average_salary --no-execute\n",
    "SELECT region, AVG(average_salary) AS avg_salary\n",
    "FROM client_account_district\n",
    "GROUP BY region\n",
    "ORDER BY avg_salary DESC"
   ]
  },
  {
   "cell_type": "code",
   "execution_count": 6,
   "id": "d4ba8907-25c7-470b-be77-041c8f589771",
   "metadata": {
    "slideshow": {
     "slide_type": "slide"
    },
    "tags": []
   },
   "outputs": [
    {
     "data": {
      "text/html": [
       "<span style=\"None\">Generating CTE with stored snippets: &#x27;average_salary&#x27;</span>"
      ],
      "text/plain": [
       "Generating CTE with stored snippets: 'average_salary'"
      ]
     },
     "metadata": {},
     "output_type": "display_data"
    },
    {
     "data": {
      "image/png": "[encoded data removed]",
      "text/plain": [
       "<Figure size 640x480 with 1 Axes>"
      ]
     },
     "metadata": {},
     "output_type": "display_data"
    }
   ],
   "source": [
    "import seaborn as sns\n",
    "import matplotlib.pyplot as plt\n",
    "avg_sal = %sql SELECT * FROM average_salary\n",
    "sns.barplot(x=avg_sal['region'], y=avg_sal['avg_salary'])\n",
    "plt.xticks(rotation=45)\n",
    "plt.title(\"Average salary by region\")\n",
    "plt.show()"
   ]
  },
  {
   "cell_type": "markdown",
   "id": "fdf7eece-4b8c-4e7e-923a-44099c5195ee",
   "metadata": {
    "slideshow": {
     "slide_type": "slide"
    },
    "tags": []
   },
   "source": [
    "<h2 align='center'>Sección 3: Introducción a GitHub Actions</h2>\n"
   ]
  },
  {
   "cell_type": "markdown",
   "id": "039a39cb-404e-4925-a4fa-ee3590684491",
   "metadata": {
    "slideshow": {
     "slide_type": "slide"
    },
    "tags": []
   },
   "source": [
    "<h3 align='center'> ¿Qué es GitHub Actions? </h3>\n",
    "\n",
    "GitHub Actions es una herramienta de CI/CD (Integración Continua/Despliegue Continuo) integrada directamente en la plataforma GitHub.\n",
    "\n",
    "Te permite automatizar, personalizar y ejecutar tus flujos de trabajo de desarrollo de software directamente en tu repositorio.\n",
    "\n"
   ]
  },
  {
   "cell_type": "markdown",
   "id": "fe7ece86-7b39-47b0-818f-838d835a3a21",
   "metadata": {
    "slideshow": {
     "slide_type": "slide"
    },
    "tags": []
   },
   "source": [
    "<h3 align='center'> Conceptos Clave </h3>\n",
    "\n",
    "* **Flujo de trabajo (Workflow)**: Un flujo de trabajo es un procedimiento automatizado, definido por ti. Puede ser activado por varios eventos como un push, pull request, o incluso según un horario.\n",
    "* **Trabajo (Job)**: Un flujo de trabajo puede tener múltiples trabajos. Los trabajos se ejecutan en paralelo por defecto, pero se pueden configurar para que dependan uno del otro.\n",
    "* **Paso (Step)**: Cada trabajo tiene una serie de pasos. Un paso puede ser un conjunto de comandos para ejecutar, o una acción del mercado.\n",
    "* **Acción (Action)**: Piezas de código reutilizables. Puedes crear las tuyas propias o usar acciones creadas por otros en la comunidad de GitHub.\n"
   ]
  },
  {
   "cell_type": "markdown",
   "id": "e86b80f8-03c3-4cd6-a164-c9071380a7b8",
   "metadata": {
    "slideshow": {
     "slide_type": "slide"
    },
    "tags": []
   },
   "source": [
    "<h3 align='center'> Ejemplos de flujos de trabajo </h3>\n",
    "\n",
    "**Flujo de trabajo activado por un push o pull request:**\n",
    "\n",
    "Este flujo de trabajo se activará cada vez que haya un push a la rama main. Es útil para la integración continua, asegurando que cualquier nuevo código empujado a la rama principal pase todas las pruebas.\n",
    "\n",
    "`.github/workflows/on-push.yml`"
   ]
  },
  {
   "cell_type": "markdown",
   "id": "55524b64-a591-4589-b118-a97a1d853b90",
   "metadata": {
    "slideshow": {
     "slide_type": "slide"
    },
    "tags": []
   },
   "source": [
    "```yaml\n",
    "name: On Push/Pull Workflow to the main branch\n",
    "\n",
    "on:\n",
    "  push:\n",
    "    branches: [ \"main\" ]\n",
    "  pull_request:\n",
    "    branches: [ \"main\" ]\n",
    "\n",
    "permissions:\n",
    "  contents: read\n",
    "\n",
    "jobs:\n",
    "  build:\n",
    "    runs-on: ubuntu-latest\n",
    "\n",
    "    steps:\n",
    "    - uses: actions/checkout@v3\n",
    "    - name: Set up Python 3.10\n",
    "      uses: actions/setup-python@v3\n",
    "      with:\n",
    "        python-version: \"3.10\"\n",
    "```"
   ]
  },
  {
   "cell_type": "markdown",
   "id": "a14d177d-43db-4ca8-8ea9-a84a6f71016a",
   "metadata": {
    "slideshow": {
     "slide_type": "slide"
    },
    "tags": []
   },
   "source": [
    "**Flujo de trabajo activado según un horario:**\n",
    "\n",
    "Este flujo de trabajo se ejecuta en un momento programado, por ejemplo, todos los días a las 2 AM. Es útil para tareas rutinarias como compilaciones diarias o actualizaciones regulares de datos.\n",
    "`.github/workflows/scheduled.yml`\n",
    "\n"
   ]
  },
  {
   "cell_type": "markdown",
   "id": "ad04ae34-9b8a-46e2-8ae5-01318233b802",
   "metadata": {
    "slideshow": {
     "slide_type": "slide"
    },
    "tags": []
   },
   "source": [
    "```yaml\n",
    "name: Scheduled Workflow\n",
    "\n",
    "on:\n",
    "  schedule:\n",
    "    - cron: '0 2 * * *'  # This means 2 AM every day\n",
    "\n",
    "jobs:\n",
    "  routine-task:\n",
    "    runs-on: ubuntu-latest\n",
    "\n",
    "    steps:\n",
    "    - name: Checkout code\n",
    "      uses: actions/checkout@v3\n",
    "\n",
    "    - name: Execute routine task\n",
    "      run: |\n",
    "        # Your commands for the routine task\n",
    "```\n"
   ]
  },
  {
   "cell_type": "markdown",
   "id": "90fdedff-d435-4c69-a573-a087873b08ff",
   "metadata": {
    "slideshow": {
     "slide_type": "slide"
    },
    "tags": []
   },
   "source": [
    "<h2 align='center'>Sección 4: CI/CD de Procesos ETL con GitHub Actions </h2>\n",
    "\n",
    "Uno de los principales usos de GitHub Actions es la automatización de pruebas, y en particular, la automatización del proceso conocido como Integración Continua, Despliegue Continuo.\n",
    "\n",
    "Pasos clave:\n",
    "1. Configurar pruebas para tu pipeline.\n",
    "2. Configurar GitHub Action: incluir configuración del entorno, pruebas de la aplicación, mecanismo de despliegue.\n",
    "3. Crear una nueva rama, hacer commits, crear un PR a la rama `main`.\n",
    "\n",
    "![](images/cicd.jpg)"
   ]
  },
  {
   "cell_type": "markdown",
   "id": "a377a2bc-9956-4d93-8950-b2acb6325f79",
   "metadata": {
    "slideshow": {
     "slide_type": "slide"
    },
    "tags": []
   },
   "source": [
    "<h3 align='center'> Ejemplo de pruebas con pytest</h3>\n",
    "Podemos crear una carpeta tests/ en el nivel raíz de nuestro repositorio de GitHub. Algunas pruebas de muestra:\n",
    "\n",
    "`test_download`: esto imitará la primera etapa en nuestro pipeline de datos.\n",
    "\n",
    "```python\n",
    "import pytest\n",
    "from unittest.mock import patch, Mock\n",
    "import unittest\n",
    "from pipeline.etl.extractdata import MarketData  \n",
    "\n",
    "@pytest.fixture\n",
    "def market_data():\n",
    "    url = \"https://tinyurl.com/jb-bank-m\"\n",
    "    output_folder = \"test_output\"\n",
    "    return MarketData(url, output_folder)\n",
    "```"
   ]
  },
  {
   "cell_type": "markdown",
   "id": "5f62a279-20cc-44db-8553-79db0954544d",
   "metadata": {
    "slideshow": {
     "slide_type": "slide"
    },
    "tags": []
   },
   "source": [
    "<h3 align='center'> Ejemplo de pruebas con pytest</h3>\n",
    "\n",
    "`test_download`: esto imitará la primera etapa en nuestro pipeline de datos.\n",
    "\n",
    "```python\n",
    "def test_extract(market_data):\n",
    "    with patch('urllib.request.urlretrieve', return_value=('path_to_zip', None)) as MockUrlRetrieve, \\\n",
    "         patch('zipfile.ZipFile') as MockZip:\n",
    "\n",
    "        mock_zip = Mock()\n",
    "        MockZip.return_value.__enter__.return_value = mock_zip\n",
    "\n",
    "        result = market_data.extract()\n",
    "\n",
    "        MockUrlRetrieve.assert_called_once_with(market_data.url)\n",
    "        MockZip.assert_called_once_with('path_to_zip', 'r')\n",
    "        mock_zip.extractall.assert_called_once_with(market_data.output_folder)\n",
    "        assert result == mock_zip\n",
    "```"
   ]
  },
  {
   "cell_type": "markdown",
   "id": "671d2840-2424-4f0b-a5bf-4ab03ed436b5",
   "metadata": {
    "slideshow": {
     "slide_type": "slide"
    },
    "tags": []
   },
   "source": [
    "<h3 align='center'> Corriendo los tests de manera local</h3>\n",
    "\n",
    "\n",
    "```bash\n",
    "$ poetry run pytest\n",
    "```\n",
    "\n",
    "```bash\n",
    "======================================= 2 passed in 0.05s =======================================\n",
    "(etl-env) macpros-MacBook-Pro:automate-elt-github macpro$ poetry run pytest\n",
    "====================================== test session starts ======================================\n",
    "platform darwin -- Python 3.10.0, pytest-7.4.2, pluggy-1.3.0\n",
    "rootdir: /Users/macpro/Documents/GitHub/automate-elt-github\n",
    "plugins: anyio-4.0.0\n",
    "collected 2 items                                                                               \n",
    "\n",
    "tests/test_download.py ..                                                                 [100%]\n",
    "\n",
    "======================================= 2 passed in 0.05s =======================================\n",
    "```"
   ]
  },
  {
   "cell_type": "markdown",
   "id": "1eca8a5f-a077-492f-8bc4-76b7bdbe649c",
   "metadata": {
    "slideshow": {
     "slide_type": "slide"
    },
    "tags": []
   },
   "source": [
    "<h3 align='center'> Añadiendo pruebas a GitHub Actions</h3>\n",
    "\n",
    "```yaml\n",
    "...\n",
    "\n",
    "- name: Install dependencies\n",
    "      run: |\n",
    "        python -m pip install --upgrade pip\n",
    "        pip install poetry \n",
    "        poetry lock\n",
    "        poetry install --no-root\n",
    "    - name: Set PYTHONPATH and Test with pytest  \n",
    "      run: |\n",
    "        export PYTHONPATH=$PYTHONPATH:$GITHUB_WORKSPACE/automate-elt-github/\n",
    "        poetry run pytest\n",
    "```"
   ]
  },
  {
   "cell_type": "markdown",
   "id": "0aac8885-ee33-416f-9492-ac353a372849",
   "metadata": {
    "slideshow": {
     "slide_type": "slide"
    },
    "tags": []
   },
   "source": [
    "<h2 align='center'>Sección 5: Desplegando tu pipeline ETL/ELT en Amazon Redshift  </h2>\n",
    "\n",
    "Amazon Redshift utiliza SQL para analizar datos estructurados y semi-estructurados a través de almacenes de datos, bases de datos operativas y lagos de datos, utilizando hardware diseñado por AWS y aprendizaje automático para ofrecer el mejor rendimiento de precio a cualquier escala.\n",
    "\n",
    "![](images/redshift.png)\n"
   ]
  },
  {
   "cell_type": "markdown",
   "id": "9845f4f9-7fd9-4e39-919e-ccd6827a1de6",
   "metadata": {
    "slideshow": {
     "slide_type": "slide"
    },
    "tags": []
   },
   "source": [
    "<h3 align='center'>Añadiendo la población de datos de Redshift a nuestro pipeline</h3>\n",
    "\n",
    "Exploremos `redshift-data-population.ipynb`\n",
    "\n",
    "https://github.com/lfunderburk/automate-elt-github/blob/main/pipeline/etl/redshift-data-population.ipynb\n",
    "\n",
    "Podemos poblar una instancia de Redshift, siempre que tengamos:\n",
    "\n",
    "\n",
    "```bash\n",
    "REDSHIFT_USERNAME = \"your-username\"\n",
    "REDSHIFT_PASSWORD = \"your-password\"\n",
    "REDSHIFT_HOST = \"default-workgroup.your-iam-role.your-zone.redshift-serverless.amazonaws.com\"\n",
    "IAM_role = \"arn:aws:iam::your-iam-role:role/redshift-your-role-space\"\n",
    "```\n",
    "\n",
    "Podemos definir lo anterior como variables de entorno, por ejemplo, en un archivo .env.\n",
    "\n",
    "**Luego podemos almacenar estas variables como secretos en GitHub**"
   ]
  },
  {
   "cell_type": "markdown",
   "id": "3f563888-980a-4cc5-aa7e-9ae655abf82c",
   "metadata": {
    "slideshow": {
     "slide_type": "slide"
    },
    "tags": []
   },
   "source": [
    "```yaml\n",
    "name: Routine Data Fetch and Push to Redshift\n",
    "\n",
    "on:\n",
    "  schedule:\n",
    "    - cron: '0 2 * * *'  # This means 2 AM every day\n",
    "\n",
    "jobs:\n",
    "  fetch-and-push:\n",
    "    runs-on: ubuntu-latest\n",
    "\n",
    "    steps:\n",
    "    - uses: actions/checkout@v3\n",
    "    - name: Set up Python 3.10\n",
    "      uses: actions/setup-python@v3\n",
    "      with:\n",
    "        python-version: \"3.10\"\n",
    "\n",
    "    - name: Install Poetry using pip\n",
    "      run: |\n",
    "        python -m pip install poetry\n",
    "\n",
    "    - name: Install dependencies using Poetry\n",
    "      run: |\n",
    "        poetry install\n",
    "\n",
    "    - name: Run Ploomber pipeline to fetch and push data to Redshift\n",
    "      env:\n",
    "        REDSHIFT_USERNAME: ${{ secrets.REDSHIFT_USER }}\n",
    "        REDSHIFT_PASSWORD: ${{ secrets.REDSHIFT_PASS }}\n",
    "        REDSHIFT_HOST: ${{ secrets.REDSHIFT_HOST }}\n",
    "        IAM_role: ${{ secrets.IAM_role }}\n",
    "      run: |\n",
    "        cd pipeline\n",
    "        poetry run ploomber build\n",
    "\n",
    "```"
   ]
  },
  {
   "cell_type": "markdown",
   "id": "57a3ef20-50b4-4a54-bb5a-e0b5a0270e73",
   "metadata": {
    "slideshow": {
     "slide_type": "slide"
    },
    "tags": []
   },
   "source": [
    "<h3 align='center'>Reflexiones finales</h3>\n",
    "\n",
    "En esta charla aprendimos:\n",
    "\n",
    "1. Podemos habilitar la extracción de datos interactiva y el manejo de datos con SQL a través de JupySQL.\n",
    "2. Podemos orquestar scripts de Python y cuadernos Jupyter a través de pipelines de Ploomber.\n",
    "3. Podemos realizar pruebas automatizadas y CI/CD a través de GitHub actions.\n",
    "4. Podemos desplegar nuestros pipelines a proveedores de servicios en la nube, como Amazon Redshift, a través de una 5. combinación de Ploomber y GitHub actions."
   ]
  }
 ],
 "metadata": {
  "kernelspec": {
   "display_name": "Python etl-env",
   "language": "python",
   "name": "etl-env"
  },
  "language_info": {
   "codemirror_mode": {
    "name": "ipython",
    "version": 3
   },
   "file_extension": ".py",
   "mimetype": "text/x-python",
   "name": "python",
   "nbconvert_exporter": "python",
   "pygments_lexer": "ipython3",
   "version": "3.10.0"
  },
  "toc": {
   "base_numbering": 1
  }
 },
 "nbformat": 4,
 "nbformat_minor": 5
}
