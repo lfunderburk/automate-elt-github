{
 "cells": [
  {
   "cell_type": "code",
   "execution_count": null,
   "id": "8e33d01f",
   "metadata": {
    "tags": [
     "parameters"
    ]
   },
   "outputs": [],
   "source": [
    "# declare a list tasks whose products you want to use as inputs\n",
    "upstream = None\n"
   ]
  },
  {
   "cell_type": "code",
   "execution_count": null,
   "metadata": {},
   "outputs": [],
   "source": [
    "# Loading in SQL extension\n",
    "%reload_ext sql\n",
    "# Initiating a DuckDB database named 'bank_data.duck.db' to run SQL queries\n",
    "%sql duckdb:///bank_data.duck.db"
   ]
  },
  {
   "cell_type": "code",
   "execution_count": null,
   "metadata": {},
   "outputs": [],
   "source": [
    "%%sql\n",
    "DROP TABLE IF EXISTS bank.account;\n",
    "DROP TABLE IF EXISTS bank.client;\n",
    "DROP TABLE IF EXISTS bank.disp;\n",
    "DROP TABLE IF EXISTS bank.card;\n",
    "DROP TABLE  IF EXISTS bank.district;\n",
    "DROP TABLE  IF EXISTS bank.loan;\n",
    "DROP TABLE  IF EXISTS bank.order;\n",
    "DROP TABLE  IF EXISTS bank.trans;\n",
    "DROP SCHEMA IF EXISTS bank;\n",
    "\n",
    "DROP TABLE  IF EXISTS client_account_district;\n",
    "DROP TABLE  IF EXISTS account_trans_order;"
   ]
  },
  {
   "cell_type": "code",
   "execution_count": null,
   "metadata": {},
   "outputs": [],
   "source": [
    "%%sql\n",
    "CREATE SCHEMA bank;\n",
    "CREATE TABLE bank.account AS\n",
    "FROM read_csv_auto('etl/expanded_data/account.csv', header=True, sep=',');\n",
    "CREATE TABLE bank.card AS\n",
    "FROM read_csv_auto('etl/expanded_data/card.csv', header=True, sep=',');\n",
    "CREATE TABLE bank.client AS\n",
    "FROM read_csv_auto('etl/expanded_data/client.csv', header=True, sep=',');\n",
    "CREATE TABLE bank.disp AS\n",
    "FROM read_csv_auto('etl/expanded_data/disp.csv', header=True, sep=',');\n",
    "CREATE TABLE bank.district AS\n",
    "FROM read_csv_auto('etl/expanded_data/district.csv', header=True, sep=',');\n",
    "CREATE TABLE bank.loan AS\n",
    "FROM read_csv_auto('etl/expanded_data/loan.csv', header=True, sep=',');\n",
    "CREATE TABLE bank.order AS\n",
    "FROM read_csv_auto('etl/expanded_data/order.csv', header=True, sep=',');\n",
    "CREATE TABLE bank.trans AS\n",
    "FROM read_csv_auto('etl/expanded_data/trans.csv', header=True, sep=',');"
   ]
  },
  {
   "cell_type": "markdown",
   "metadata": {},
   "source": [
    "Merge `client`, `account`, and `district` tables: This will give us a view of each client's demographic information (from `bank.client`), their account details (from `bank.account`), and the district's economic indicators (from `bank.district`)."
   ]
  },
  {
   "cell_type": "code",
   "execution_count": null,
   "metadata": {},
   "outputs": [],
   "source": [
    "%%sql\n",
    "CREATE TABLE IF NOT EXISTS client_account_district AS\n",
    "SELECT \n",
    "    c.client_id,\n",
    "    c.birth_number,\n",
    "    a.account_id,\n",
    "    a.frequency,\n",
    "    a.date AS account_creation_date,\n",
    "    d.district_name,\n",
    "    d.region,\n",
    "    d.no_of_inhabitants,\n",
    "    d.average_salary,\n",
    "    d.unemployment_rate_95,\n",
    "    d.unemployment_rate_96,\n",
    "    d.no_of_entrepreneurs_per_1000_inhabitants\n",
    "FROM bank.client c\n",
    "JOIN bank.account a ON c.district_id = a.district_id\n",
    "JOIN bank.district d ON c.district_id = d.district_id;"
   ]
  },
  {
   "cell_type": "markdown",
   "metadata": {},
   "source": [
    "Merge `account`, `trans`, and `order` tables: This will give us a view of each account's transactions and orders, which might indicate the client's financial activity."
   ]
  },
  {
   "cell_type": "code",
   "execution_count": null,
   "metadata": {},
   "outputs": [],
   "source": [
    "%%sql\n",
    "CREATE TABLE IF NOT EXISTS account_trans_order AS\n",
    "SELECT \n",
    "    a.account_id,\n",
    "    a.frequency,\n",
    "    a.date AS account_creation_date,\n",
    "    t.trans_id,\n",
    "    t.date AS transaction_date,\n",
    "    t.type AS transaction_type,\n",
    "    t.operation,\n",
    "    t.amount AS transaction_amount,\n",
    "    t.balance,\n",
    "    o.order_id,\n",
    "    o.bank_to,\n",
    "    o.account_to,\n",
    "    o.amount AS order_amount\n",
    "FROM bank.account a\n",
    "JOIN bank.trans t ON a.account_id = t.account_id\n",
    "JOIN bank.order o ON a.account_id = o.account_id;\n"
   ]
  }
 ],
 "metadata": {
  "kernelspec": {
   "display_name": "etl-env",
   "language": "python",
   "name": "python3"
  },
  "language_info": {
   "codemirror_mode": {
    "name": "ipython",
    "version": 3
   },
   "file_extension": ".py",
   "mimetype": "text/x-python",
   "name": "python",
   "nbconvert_exporter": "python",
   "pygments_lexer": "ipython3",
   "version": "3.10.0"
  }
 },
 "nbformat": 4,
 "nbformat_minor": 2
}
