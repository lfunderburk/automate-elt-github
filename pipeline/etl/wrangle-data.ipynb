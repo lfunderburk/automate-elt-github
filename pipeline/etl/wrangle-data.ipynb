{
 "cells": [
  {
   "cell_type": "code",
   "execution_count": null,
   "metadata": {
    "editable": true,
    "slideshow": {
     "slide_type": ""
    },
    "tags": [
     "parameters"
    ]
   },
   "outputs": [],
   "source": [
    "# declare a list tasks whose products you want to use as inputs\n",
    "upstream = None\n"
   ]
  },
  {
   "cell_type": "code",
   "execution_count": 2,
   "metadata": {
    "editable": true,
    "slideshow": {
     "slide_type": ""
    }
   },
   "outputs": [
    {
     "data": {
      "text/html": [
       "<span style=\"None\">Found pyproject.toml from &#x27;/Users/macpro/Documents/GitHub/automate-elt-github&#x27;</span>"
      ],
      "text/plain": [
       "Found pyproject.toml from '/Users/macpro/Documents/GitHub/automate-elt-github'"
      ]
     },
     "metadata": {},
     "output_type": "display_data"
    },
    {
     "data": {
      "text/html": [
       "<span style=\"None\">Settings changed:</span>"
      ],
      "text/plain": [
       "Settings changed:"
      ]
     },
     "metadata": {},
     "output_type": "display_data"
    },
    {
     "data": {
      "text/html": [
       "\n",
       "<table>\n",
       "    <thead>\n",
       "        <tr>\n",
       "            <th>Config</th>\n",
       "            <th>value</th>\n",
       "        </tr>\n",
       "    </thead>\n",
       "    <tbody>\n",
       "        <tr>\n",
       "            <td>displaycon</td>\n",
       "            <td>False</td>\n",
       "        </tr>\n",
       "        <tr>\n",
       "            <td>feedback</td>\n",
       "            <td>True</td>\n",
       "        </tr>\n",
       "        <tr>\n",
       "            <td>autopandas</td>\n",
       "            <td>True</td>\n",
       "        </tr>\n",
       "        <tr>\n",
       "            <td>named_parameters</td>\n",
       "            <td>True</td>\n",
       "        </tr>\n",
       "    </tbody>\n",
       "</table>"
      ],
      "text/plain": [
       "\n",
       "+------------------+-------+\n",
       "|      Config      | value |\n",
       "+------------------+-------+\n",
       "|    displaycon    | False |\n",
       "|     feedback     |  True |\n",
       "|    autopandas    |  True |\n",
       "| named_parameters |  True |\n",
       "+------------------+-------+"
      ]
     },
     "metadata": {},
     "output_type": "display_data"
    },
    {
     "data": {
      "text/html": [
       "<span style=\"None\">Connecting and switching to connection duckdb:///../bank_data.duck.db</span>"
      ],
      "text/plain": [
       "Connecting and switching to connection duckdb:///../bank_data.duck.db"
      ]
     },
     "metadata": {},
     "output_type": "display_data"
    }
   ],
   "source": [
    "# Loading in SQL extension\n",
    "%reload_ext sql\n",
    "# Initiating a DuckDB database named 'bank_data.duck.db' to run SQL queries\n",
    "%sql duckdb:///bank_data.duck.db"
   ]
  },
  {
   "cell_type": "code",
   "execution_count": 6,
   "metadata": {},
   "outputs": [
    {
     "data": {
      "text/html": [
       "<div>\n",
       "<style scoped>\n",
       "    .dataframe tbody tr th:only-of-type {\n",
       "        vertical-align: middle;\n",
       "    }\n",
       "\n",
       "    .dataframe tbody tr th {\n",
       "        vertical-align: top;\n",
       "    }\n",
       "\n",
       "    .dataframe thead th {\n",
       "        text-align: right;\n",
       "    }\n",
       "</style>\n",
       "<table border=\"1\" class=\"dataframe\">\n",
       "  <thead>\n",
       "    <tr style=\"text-align: right;\">\n",
       "      <th></th>\n",
       "      <th>Success</th>\n",
       "    </tr>\n",
       "  </thead>\n",
       "  <tbody>\n",
       "  </tbody>\n",
       "</table>\n",
       "</div>"
      ],
      "text/plain": [
       "Empty DataFrame\n",
       "Columns: [Success]\n",
       "Index: []"
      ]
     },
     "execution_count": 6,
     "metadata": {},
     "output_type": "execute_result"
    }
   ],
   "source": [
    "%%sql\n",
    "DROP TABLE IF EXISTS bank.account;\n",
    "DROP TABLE IF EXISTS bank.client;\n",
    "DROP TABLE IF EXISTS bank.disp;\n",
    "DROP TABLE IF EXISTS bank.card;\n",
    "DROP TABLE  IF EXISTS bank.district;\n",
    "DROP TABLE  IF EXISTS bank.loan;\n",
    "DROP TABLE  IF EXISTS bank.order;\n",
    "DROP TABLE  IF EXISTS bank.trans;\n",
    "DROP SCHEMA IF EXISTS bank;\n",
    "\n",
    "DROP TABLE  IF EXISTS client_account_district;\n",
    "DROP TABLE  IF EXISTS account_trans_order;"
   ]
  },
  {
   "cell_type": "code",
   "execution_count": 7,
   "metadata": {},
   "outputs": [
    {
     "data": {
      "text/html": [
       "<div>\n",
       "<style scoped>\n",
       "    .dataframe tbody tr th:only-of-type {\n",
       "        vertical-align: middle;\n",
       "    }\n",
       "\n",
       "    .dataframe tbody tr th {\n",
       "        vertical-align: top;\n",
       "    }\n",
       "\n",
       "    .dataframe thead th {\n",
       "        text-align: right;\n",
       "    }\n",
       "</style>\n",
       "<table border=\"1\" class=\"dataframe\">\n",
       "  <thead>\n",
       "    <tr style=\"text-align: right;\">\n",
       "      <th></th>\n",
       "      <th>Count</th>\n",
       "    </tr>\n",
       "  </thead>\n",
       "  <tbody>\n",
       "    <tr>\n",
       "      <th>0</th>\n",
       "      <td>1056320</td>\n",
       "    </tr>\n",
       "  </tbody>\n",
       "</table>\n",
       "</div>"
      ],
      "text/plain": [
       "     Count\n",
       "0  1056320"
      ]
     },
     "execution_count": 7,
     "metadata": {},
     "output_type": "execute_result"
    }
   ],
   "source": [
    "%%sql\n",
    "CREATE SCHEMA bank;\n",
    "CREATE TABLE bank.account AS\n",
    "FROM read_csv_auto('etl/expanded_data/account.csv', header=True, sep=',');\n",
    "CREATE TABLE bank.card AS\n",
    "FROM read_csv_auto('etl/expanded_data/card.csv', header=True, sep=',');\n",
    "CREATE TABLE bank.client AS\n",
    "FROM read_csv_auto('etl/expanded_data/client.csv', header=True, sep=',');\n",
    "CREATE TABLE bank.disp AS\n",
    "FROM read_csv_auto('etl/expanded_data/disp.csv', header=True, sep=',');\n",
    "CREATE TABLE bank.district AS\n",
    "FROM read_csv_auto('etl/expanded_data/district.csv', header=True, sep=',');\n",
    "CREATE TABLE bank.loan AS\n",
    "FROM read_csv_auto('etl/expanded_data/loan.csv', header=True, sep=',');\n",
    "CREATE TABLE bank.order AS\n",
    "FROM read_csv_auto('etl/expanded_data/order.csv', header=True, sep=',');\n",
    "CREATE TABLE bank.trans AS\n",
    "FROM read_csv_auto('etl/expanded_data/trans.csv', header=True, sep=',');"
   ]
  },
  {
   "cell_type": "markdown",
   "metadata": {},
   "source": [
    "Merge `client`, `account`, and `district` tables: This will give us a view of each client's demographic information (from `bank.client`), their account details (from `bank.account`), and the district's economic indicators (from `bank.district`)."
   ]
  },
  {
   "cell_type": "code",
   "execution_count": 8,
   "metadata": {},
   "outputs": [
    {
     "data": {
      "text/html": [
       "<div>\n",
       "<style scoped>\n",
       "    .dataframe tbody tr th:only-of-type {\n",
       "        vertical-align: middle;\n",
       "    }\n",
       "\n",
       "    .dataframe tbody tr th {\n",
       "        vertical-align: top;\n",
       "    }\n",
       "\n",
       "    .dataframe thead th {\n",
       "        text-align: right;\n",
       "    }\n",
       "</style>\n",
       "<table border=\"1\" class=\"dataframe\">\n",
       "  <thead>\n",
       "    <tr style=\"text-align: right;\">\n",
       "      <th></th>\n",
       "      <th>Count</th>\n",
       "    </tr>\n",
       "  </thead>\n",
       "  <tbody>\n",
       "    <tr>\n",
       "      <th>0</th>\n",
       "      <td>648561</td>\n",
       "    </tr>\n",
       "  </tbody>\n",
       "</table>\n",
       "</div>"
      ],
      "text/plain": [
       "    Count\n",
       "0  648561"
      ]
     },
     "execution_count": 8,
     "metadata": {},
     "output_type": "execute_result"
    }
   ],
   "source": [
    "%%sql\n",
    "CREATE TABLE IF NOT EXISTS client_account_district AS\n",
    "SELECT \n",
    "    c.client_id,\n",
    "    c.birth_number,\n",
    "    a.account_id,\n",
    "    a.frequency,\n",
    "    a.date AS account_creation_date,\n",
    "    d.district_name,\n",
    "    d.region,\n",
    "    d.no_of_inhabitants,\n",
    "    d.average_salary,\n",
    "    d.unemployment_rate_95,\n",
    "    d.unemployment_rate_96,\n",
    "    d.no_of_entrepreneurs_per_1000_inhabitants\n",
    "FROM bank.client c\n",
    "JOIN bank.account a ON c.district_id = a.district_id\n",
    "JOIN bank.district d ON c.district_id = d.district_id;"
   ]
  },
  {
   "cell_type": "markdown",
   "metadata": {},
   "source": [
    "Merge `account`, `trans`, and `order` tables: This will give us a view of each account's transactions and orders, which might indicate the client's financial activity."
   ]
  },
  {
   "cell_type": "code",
   "execution_count": 9,
   "metadata": {},
   "outputs": [
    {
     "data": {
      "text/html": [
       "<div>\n",
       "<style scoped>\n",
       "    .dataframe tbody tr th:only-of-type {\n",
       "        vertical-align: middle;\n",
       "    }\n",
       "\n",
       "    .dataframe tbody tr th {\n",
       "        vertical-align: top;\n",
       "    }\n",
       "\n",
       "    .dataframe thead th {\n",
       "        text-align: right;\n",
       "    }\n",
       "</style>\n",
       "<table border=\"1\" class=\"dataframe\">\n",
       "  <thead>\n",
       "    <tr style=\"text-align: right;\">\n",
       "      <th></th>\n",
       "      <th>Count</th>\n",
       "    </tr>\n",
       "  </thead>\n",
       "  <tbody>\n",
       "    <tr>\n",
       "      <th>0</th>\n",
       "      <td>1715140</td>\n",
       "    </tr>\n",
       "  </tbody>\n",
       "</table>\n",
       "</div>"
      ],
      "text/plain": [
       "     Count\n",
       "0  1715140"
      ]
     },
     "execution_count": 9,
     "metadata": {},
     "output_type": "execute_result"
    }
   ],
   "source": [
    "%%sql\n",
    "CREATE TABLE IF NOT EXISTS account_trans_order AS\n",
    "SELECT \n",
    "    a.account_id,\n",
    "    a.frequency,\n",
    "    a.date AS account_creation_date,\n",
    "    t.trans_id,\n",
    "    t.date AS transaction_date,\n",
    "    t.type AS transaction_type,\n",
    "    t.operation,\n",
    "    t.amount AS transaction_amount,\n",
    "    t.balance,\n",
    "    o.order_id,\n",
    "    o.bank_to,\n",
    "    o.account_to,\n",
    "    o.amount AS order_amount\n",
    "FROM bank.account a\n",
    "JOIN bank.trans t ON a.account_id = t.account_id\n",
    "JOIN bank.order o ON a.account_id = o.account_id;\n"
   ]
  }
 ],
 "metadata": {
  "kernelspec": {
   "display_name": "Python 3 (ipykernel)",
   "language": "python",
   "name": "python3"
  },
  "language_info": {
   "codemirror_mode": {
    "name": "ipython",
    "version": 3
   },
   "file_extension": ".py",
   "mimetype": "text/x-python",
   "name": "python",
   "nbconvert_exporter": "python",
   "pygments_lexer": "ipython3",
   "version": "3.10.0"
  },
  "papermill": {
   "environment_variables": {},
   "parameters": {
    "product": {
     "nb": "/Users/macpro/Documents/GitHub/automate-elt-github/pipeline/products/wrangle-data-pipeline.ipynb"
    }
   },
   "version": null
  }
 },
 "nbformat": 4,
 "nbformat_minor": 4
}
