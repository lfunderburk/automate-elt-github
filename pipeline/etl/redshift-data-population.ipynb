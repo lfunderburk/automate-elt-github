{
 "cells": [
  {
   "cell_type": "markdown",
   "metadata": {},
   "source": [
    "## Notebook component to populate a Redshift cluster with our data"
   ]
  },
  {
   "cell_type": "code",
   "execution_count": 112,
   "metadata": {},
   "outputs": [],
   "source": [
    "from dotenv import load_dotenv\n",
    "from sqlalchemy import create_engine\n",
    "from sqlalchemy.engine import URL\n",
    "import os"
   ]
  },
  {
   "cell_type": "markdown",
   "metadata": {},
   "source": [
    "### Access credentials securely"
   ]
  },
  {
   "cell_type": "code",
   "execution_count": 2,
   "metadata": {},
   "outputs": [],
   "source": [
    "load_dotenv(\".env\")\n",
    "\n",
    "user = os.environ.get(\"REDSHIFT_USERNAME\")\n",
    "password = os.environ.get(\"REDSHIFT_PASSWORD\")\n",
    "host = os.environ.get(\"REDSHIFT_HOST\")\n",
    "iamrole = os.environ.get(\"IAM_role\")"
   ]
  },
  {
   "cell_type": "markdown",
   "metadata": {},
   "source": [
    "### Form connection string\n",
    "\n",
    "Note, this assumes we added\n",
    "\n",
    "```bash\n",
    "poetry add sqlalchemy-redshift\n",
    "\n",
    "```"
   ]
  },
  {
   "cell_type": "code",
   "execution_count": 3,
   "metadata": {},
   "outputs": [
    {
     "name": "stdout",
     "output_type": "stream",
     "text": [
      "Note: you may need to restart the kernel to use updated packages.\n"
     ]
    }
   ],
   "source": [
    "%pip install redshift-connector \"sqlalchemy<2\" --quiet"
   ]
  },
  {
   "cell_type": "code",
   "execution_count": 4,
   "metadata": {},
   "outputs": [],
   "source": [
    "url = URL.create(\n",
    "    drivername=\"redshift+redshift_connector\",\n",
    "    username=user,\n",
    "    password=password,\n",
    "    host=host,\n",
    "    port=5439,\n",
    "    database=\"dev\",\n",
    ")\n",
    "\n",
    "engine = create_engine(url)"
   ]
  },
  {
   "cell_type": "markdown",
   "metadata": {},
   "source": [
    "### Load JupySQL extension"
   ]
  },
  {
   "cell_type": "code",
   "execution_count": 5,
   "metadata": {},
   "outputs": [
    {
     "data": {
      "text/html": [
       "<span style=\"None\">Found pyproject.toml from &#x27;/Users/macpro/Documents/GitHub/automate-elt-github&#x27;</span>"
      ],
      "text/plain": [
       "Found pyproject.toml from '/Users/macpro/Documents/GitHub/automate-elt-github'"
      ]
     },
     "metadata": {},
     "output_type": "display_data"
    },
    {
     "data": {
      "text/html": [
       "<span style=\"None\">Settings changed:</span>"
      ],
      "text/plain": [
       "Settings changed:"
      ]
     },
     "metadata": {},
     "output_type": "display_data"
    },
    {
     "data": {
      "text/html": [
       "\n",
       "<table>\n",
       "    <thead>\n",
       "        <tr>\n",
       "            <th>Config</th>\n",
       "            <th>value</th>\n",
       "        </tr>\n",
       "    </thead>\n",
       "    <tbody>\n",
       "        <tr>\n",
       "            <td>displaycon</td>\n",
       "            <td>False</td>\n",
       "        </tr>\n",
       "        <tr>\n",
       "            <td>feedback</td>\n",
       "            <td>True</td>\n",
       "        </tr>\n",
       "        <tr>\n",
       "            <td>autopandas</td>\n",
       "            <td>True</td>\n",
       "        </tr>\n",
       "        <tr>\n",
       "            <td>named_parameters</td>\n",
       "            <td>True</td>\n",
       "        </tr>\n",
       "    </tbody>\n",
       "</table>"
      ],
      "text/plain": [
       "\n",
       "+------------------+-------+\n",
       "|      Config      | value |\n",
       "+------------------+-------+\n",
       "|    displaycon    | False |\n",
       "|     feedback     |  True |\n",
       "|    autopandas    |  True |\n",
       "| named_parameters |  True |\n",
       "+------------------+-------+"
      ]
     },
     "metadata": {},
     "output_type": "display_data"
    }
   ],
   "source": [
    "%reload_ext sql"
   ]
  },
  {
   "cell_type": "markdown",
   "metadata": {},
   "source": [
    "### Use the engine to initialize access to our Redshift via the alias `redshift`"
   ]
  },
  {
   "cell_type": "code",
   "execution_count": 6,
   "metadata": {},
   "outputs": [],
   "source": [
    "%sql engine --alias redshift"
   ]
  },
  {
   "cell_type": "markdown",
   "metadata": {},
   "source": [
    "### Add data to S3 bucket"
   ]
  },
  {
   "cell_type": "code",
   "execution_count": 115,
   "metadata": {},
   "outputs": [
    {
     "name": "stderr",
     "output_type": "stream",
     "text": [
      "6421.41s - pydevd: Sending message related to process being replaced timed-out after 5 seconds\n"
     ]
    },
    {
     "name": "stdout",
     "output_type": "stream",
     "text": [
      "upload: expanded_data/account.csv to s3://ploomber-redshift-data/nyc-taxi/account.csv\n"
     ]
    },
    {
     "name": "stderr",
     "output_type": "stream",
     "text": [
      "6433.38s - pydevd: Sending message related to process being replaced timed-out after 5 seconds\n"
     ]
    },
    {
     "name": "stdout",
     "output_type": "stream",
     "text": [
      "upload: expanded_data/district.csv to s3://ploomber-redshift-data/nyc-taxi/district.csv\n"
     ]
    }
   ],
   "source": [
    "! aws s3 cp expanded_data/account.csv s3://ploomber-redshift-data/nyc-taxi/account.csv\n",
    "! aws s3 cp expanded_data/district.csv s3://ploomber-redshift-data/nyc-taxi/district.csv"
   ]
  },
  {
   "cell_type": "markdown",
   "metadata": {},
   "source": [
    "### Create table `account` and table `district` from data in S3 bucket\n",
    "\n",
    "Ensure you set up your access key and secret access keys!"
   ]
  },
  {
   "cell_type": "code",
   "execution_count": 116,
   "metadata": {},
   "outputs": [
    {
     "data": {
      "text/html": [
       "<div>\n",
       "<style scoped>\n",
       "    .dataframe tbody tr th:only-of-type {\n",
       "        vertical-align: middle;\n",
       "    }\n",
       "\n",
       "    .dataframe tbody tr th {\n",
       "        vertical-align: top;\n",
       "    }\n",
       "\n",
       "    .dataframe thead th {\n",
       "        text-align: right;\n",
       "    }\n",
       "</style>\n",
       "<table border=\"1\" class=\"dataframe\">\n",
       "  <thead>\n",
       "    <tr style=\"text-align: right;\">\n",
       "      <th></th>\n",
       "    </tr>\n",
       "  </thead>\n",
       "  <tbody>\n",
       "  </tbody>\n",
       "</table>\n",
       "</div>"
      ],
      "text/plain": [
       "Empty DataFrame\n",
       "Columns: []\n",
       "Index: []"
      ]
     },
     "execution_count": 116,
     "metadata": {},
     "output_type": "execute_result"
    }
   ],
   "source": [
    "%%sql\n",
    "DROP TABLE IF EXISTS account CASCADE;\n",
    "DROP TABLE IF EXISTS district CASCADE;"
   ]
  },
  {
   "cell_type": "code",
   "execution_count": 117,
   "metadata": {},
   "outputs": [
    {
     "data": {
      "text/html": [
       "<div>\n",
       "<style scoped>\n",
       "    .dataframe tbody tr th:only-of-type {\n",
       "        vertical-align: middle;\n",
       "    }\n",
       "\n",
       "    .dataframe tbody tr th {\n",
       "        vertical-align: top;\n",
       "    }\n",
       "\n",
       "    .dataframe thead th {\n",
       "        text-align: right;\n",
       "    }\n",
       "</style>\n",
       "<table border=\"1\" class=\"dataframe\">\n",
       "  <thead>\n",
       "    <tr style=\"text-align: right;\">\n",
       "      <th></th>\n",
       "    </tr>\n",
       "  </thead>\n",
       "  <tbody>\n",
       "  </tbody>\n",
       "</table>\n",
       "</div>"
      ],
      "text/plain": [
       "Empty DataFrame\n",
       "Columns: []\n",
       "Index: []"
      ]
     },
     "execution_count": 117,
     "metadata": {},
     "output_type": "execute_result"
    }
   ],
   "source": [
    "%%sql\n",
    "CREATE TABLE IF NOT EXISTS account\n",
    "(account_id INT,\n",
    " district_id INT,\n",
    " frequency VARCHAR(50),\n",
    " date VARCHAR(50));\n",
    "\n",
    " COPY account\n",
    "FROM 's3://ploomber-redshift-data/nyc-taxi/account.csv'\n",
    "IAM_ROLE '{{iamrole}}'\n",
    "IGNOREHEADER 1\n",
    "CSV;"
   ]
  },
  {
   "cell_type": "code",
   "execution_count": 118,
   "metadata": {},
   "outputs": [
    {
     "data": {
      "text/html": [
       "<div>\n",
       "<style scoped>\n",
       "    .dataframe tbody tr th:only-of-type {\n",
       "        vertical-align: middle;\n",
       "    }\n",
       "\n",
       "    .dataframe tbody tr th {\n",
       "        vertical-align: top;\n",
       "    }\n",
       "\n",
       "    .dataframe thead th {\n",
       "        text-align: right;\n",
       "    }\n",
       "</style>\n",
       "<table border=\"1\" class=\"dataframe\">\n",
       "  <thead>\n",
       "    <tr style=\"text-align: right;\">\n",
       "      <th></th>\n",
       "    </tr>\n",
       "  </thead>\n",
       "  <tbody>\n",
       "  </tbody>\n",
       "</table>\n",
       "</div>"
      ],
      "text/plain": [
       "Empty DataFrame\n",
       "Columns: []\n",
       "Index: []"
      ]
     },
     "execution_count": 118,
     "metadata": {},
     "output_type": "execute_result"
    }
   ],
   "source": [
    "%%sql\n",
    "CREATE TABLE IF NOT EXISTS district\n",
    "(district_id INT,\n",
    "district_name VARCHAR(50),\n",
    "region VARCHAR(50),\n",
    "no_of_inhabitants BIGINT ,\n",
    "no_of_municipalities_lt_499 INT,\n",
    "no_of_municipalities_500_1999 INT,\n",
    "no_of_municipalities_2000_9999 INT,\n",
    "no_of_municipalities_gt_10000 INT,\n",
    "no_of_cities INT,\n",
    "ratio_of_urban_inhabitants DOUBLE PRECISION,\n",
    "average_salary DOUBLE PRECISION,\n",
    "unemployment_rate_95 DOUBLE PRECISION,\n",
    "unemployment_rate_96 DOUBLE PRECISION,\n",
    "no_of_entrepreneurs_per_1000_inhabitants DOUBLE PRECISION,\n",
    "no_of_committed_crimes_95 INT,\n",
    "no_of_committed_crimes_96 INT);\n",
    "\n",
    " \n",
    "COPY district\n",
    "FROM 's3://ploomber-redshift-data/nyc-taxi/district.csv'\n",
    "IAM_ROLE '{{iamrole}}'\n",
    "IGNOREHEADER 1\n",
    "CSV;"
   ]
  },
  {
   "cell_type": "markdown",
   "metadata": {},
   "source": [
    "## Profile the data"
   ]
  },
  {
   "cell_type": "code",
   "execution_count": 123,
   "metadata": {},
   "outputs": [
    {
     "data": {
      "text/html": [
       "<div style='position: sticky; left: 0; padding: 10px; font-size: 12px; color: #FFA500'><strong></strong> Following statistics are not available in\n",
       "            redshift_connector: STD, 25%, 50%, 75%</div><style>\n",
       " #profile-table td:first-child {\n",
       "  position: sticky;\n",
       "  left: 0;\n",
       "  background-color: var(--jp-cell-editor-background);\n",
       "  font-weight: bold;\n",
       "}\n",
       " #profile-table thead tr th:first-child {\n",
       "  position: sticky;\n",
       "  left: 0;\n",
       "  background-color: var(--jp-cell-editor-background);\n",
       "  font-weight: bold; /* Adding bold text */\n",
       "}\n",
       "            </style><style>\n",
       "        #profile-table-5a15399854ea4dfebfd11f343e5c479e td:nth-child(5) {\n",
       "            background-color: #FFFFCC;\n",
       "            color: black;\n",
       "        }\n",
       "        </style><table id=\"profile-table-5a15399854ea4dfebfd11f343e5c479e\">\n",
       "    <thead>\n",
       "        <tr>\n",
       "            <th> </th>\n",
       "            <th>account_id</th>\n",
       "            <th>district_id</th>\n",
       "            <th>frequency</th>\n",
       "            <th>date</th>\n",
       "        </tr>\n",
       "    </thead>\n",
       "    <tbody>\n",
       "        <tr>\n",
       "            <td>count</td>\n",
       "            <td>4500</td>\n",
       "            <td>4500</td>\n",
       "            <td>4500</td>\n",
       "            <td>4500</td>\n",
       "        </tr>\n",
       "        <tr>\n",
       "            <td>unique</td>\n",
       "            <td>4500</td>\n",
       "            <td>77</td>\n",
       "            <td>3</td>\n",
       "            <td>1535</td>\n",
       "        </tr>\n",
       "        <tr>\n",
       "            <td>mean</td>\n",
       "            <td>2786.0000</td>\n",
       "            <td>37.0000</td>\n",
       "            <td>nan</td>\n",
       "            <td>951654.0000</td>\n",
       "        </tr>\n",
       "        <tr>\n",
       "            <td>min</td>\n",
       "            <td>1</td>\n",
       "            <td>1</td>\n",
       "            <td>nan</td>\n",
       "            <td></td>\n",
       "        </tr>\n",
       "        <tr>\n",
       "            <td>max</td>\n",
       "            <td>11382</td>\n",
       "            <td>77</td>\n",
       "            <td>nan</td>\n",
       "            <td></td>\n",
       "        </tr>\n",
       "    </tbody>\n",
       "</table><div style='position: sticky; left: 0; padding: 10px; font-size: 12px; color: black; background-color: #FFFFCC;'><strong>Warning: </strong> Columns <code>date</code> have a datatype mismatch -> numeric values stored as a string. <br> Cannot calculate mean/min/max/std/percentiles</div>"
      ],
      "text/plain": [
       "+--------+------------+-------------+-----------+-------------+\n",
       "|        | account_id | district_id | frequency |     date    |\n",
       "+--------+------------+-------------+-----------+-------------+\n",
       "| count  |    4500    |     4500    |    4500   |     4500    |\n",
       "| unique |    4500    |      77     |     3     |     1535    |\n",
       "|  mean  | 2786.0000  |   37.0000   |    nan    | 951654.0000 |\n",
       "|  min   |     1      |      1      |    nan    |             |\n",
       "|  max   |   11382    |      77     |    nan    |             |\n",
       "+--------+------------+-------------+-----------+-------------+"
      ]
     },
     "execution_count": 123,
     "metadata": {},
     "output_type": "execute_result"
    }
   ],
   "source": [
    "%sqlcmd profile -t account"
   ]
  },
  {
   "cell_type": "code",
   "execution_count": 124,
   "metadata": {},
   "outputs": [
    {
     "data": {
      "text/html": [
       "<div style='position: sticky; left: 0; padding: 10px; font-size: 12px; color: #FFA500'><strong></strong> Following statistics are not available in\n",
       "            redshift_connector: STD, 25%, 50%, 75%</div><style>\n",
       " #profile-table td:first-child {\n",
       "  position: sticky;\n",
       "  left: 0;\n",
       "  background-color: var(--jp-cell-editor-background);\n",
       "  font-weight: bold;\n",
       "}\n",
       " #profile-table thead tr th:first-child {\n",
       "  position: sticky;\n",
       "  left: 0;\n",
       "  background-color: var(--jp-cell-editor-background);\n",
       "  font-weight: bold; /* Adding bold text */\n",
       "}\n",
       "            </style><style></style><table id=\"profile-table-d6ac3be39a16411aaf35fcbbd022e3dd\">\n",
       "    <thead>\n",
       "        <tr>\n",
       "            <th> </th>\n",
       "            <th>district_id</th>\n",
       "            <th>district_name</th>\n",
       "            <th>region</th>\n",
       "            <th>no_of_inhabitants</th>\n",
       "            <th>no_of_municipalities_lt_499</th>\n",
       "            <th>no_of_municipalities_500_1999</th>\n",
       "            <th>no_of_municipalities_2000_9999</th>\n",
       "            <th>no_of_municipalities_gt_10000</th>\n",
       "            <th>no_of_cities</th>\n",
       "            <th>ratio_of_urban_inhabitants</th>\n",
       "            <th>average_salary</th>\n",
       "            <th>unemployment_rate_95</th>\n",
       "            <th>unemployment_rate_96</th>\n",
       "            <th>no_of_entrepreneurs_per_1000_inhabitants</th>\n",
       "            <th>no_of_committed_crimes_95</th>\n",
       "            <th>no_of_committed_crimes_96</th>\n",
       "        </tr>\n",
       "    </thead>\n",
       "    <tbody>\n",
       "        <tr>\n",
       "            <td>count</td>\n",
       "            <td>76</td>\n",
       "            <td>76</td>\n",
       "            <td>76</td>\n",
       "            <td>76</td>\n",
       "            <td>76</td>\n",
       "            <td>76</td>\n",
       "            <td>76</td>\n",
       "            <td>76</td>\n",
       "            <td>76</td>\n",
       "            <td>76</td>\n",
       "            <td>76</td>\n",
       "            <td>76</td>\n",
       "            <td>76</td>\n",
       "            <td>76</td>\n",
       "            <td>76</td>\n",
       "            <td>76</td>\n",
       "        </tr>\n",
       "        <tr>\n",
       "            <td>unique</td>\n",
       "            <td>76</td>\n",
       "            <td>76</td>\n",
       "            <td>8</td>\n",
       "            <td>76</td>\n",
       "            <td>52</td>\n",
       "            <td>36</td>\n",
       "            <td>17</td>\n",
       "            <td>6</td>\n",
       "            <td>11</td>\n",
       "            <td>69</td>\n",
       "            <td>75</td>\n",
       "            <td>70</td>\n",
       "            <td>72</td>\n",
       "            <td>44</td>\n",
       "            <td>75</td>\n",
       "            <td>75</td>\n",
       "        </tr>\n",
       "        <tr>\n",
       "            <td>mean</td>\n",
       "            <td>38.0000</td>\n",
       "            <td>nan</td>\n",
       "            <td>nan</td>\n",
       "            <td>135083.0000</td>\n",
       "            <td>49.0000</td>\n",
       "            <td>24.0000</td>\n",
       "            <td>6.0000</td>\n",
       "            <td>1.0000</td>\n",
       "            <td>6.0000</td>\n",
       "            <td>63.2276</td>\n",
       "            <td>9042.9737</td>\n",
       "            <td>3.1193</td>\n",
       "            <td>3.7446</td>\n",
       "            <td>116.0263</td>\n",
       "            <td>4850.0000</td>\n",
       "            <td>5079.0000</td>\n",
       "        </tr>\n",
       "        <tr>\n",
       "            <td>min</td>\n",
       "            <td>1</td>\n",
       "            <td>nan</td>\n",
       "            <td>nan</td>\n",
       "            <td>45714</td>\n",
       "            <td>0</td>\n",
       "            <td>0</td>\n",
       "            <td>0</td>\n",
       "            <td>0</td>\n",
       "            <td>1</td>\n",
       "            <td>33.9</td>\n",
       "            <td>8110.0</td>\n",
       "            <td>0.29</td>\n",
       "            <td>0.43</td>\n",
       "            <td>81.0</td>\n",
       "            <td>818</td>\n",
       "            <td>888</td>\n",
       "        </tr>\n",
       "        <tr>\n",
       "            <td>max</td>\n",
       "            <td>77</td>\n",
       "            <td>nan</td>\n",
       "            <td>nan</td>\n",
       "            <td>1204953</td>\n",
       "            <td>151</td>\n",
       "            <td>70</td>\n",
       "            <td>20</td>\n",
       "            <td>5</td>\n",
       "            <td>11</td>\n",
       "            <td>100.0</td>\n",
       "            <td>12541.0</td>\n",
       "            <td>7.34</td>\n",
       "            <td>9.4</td>\n",
       "            <td>167.0</td>\n",
       "            <td>85677</td>\n",
       "            <td>99107</td>\n",
       "        </tr>\n",
       "    </tbody>\n",
       "</table><div style='position: sticky; left: 0; padding: 10px; font-size: 12px; color: black; background-color: white;'><strong></strong> </div>"
      ],
      "text/plain": [
       "+--------+-------------+---------------+--------+-------------------+-----------------------------+-------------------------------+--------------------------------+-------------------------------+--------------+----------------------------+----------------+----------------------+----------------------+------------------------------------------+---------------------------+---------------------------+\n",
       "|        | district_id | district_name | region | no_of_inhabitants | no_of_municipalities_lt_499 | no_of_municipalities_500_1999 | no_of_municipalities_2000_9999 | no_of_municipalities_gt_10000 | no_of_cities | ratio_of_urban_inhabitants | average_salary | unemployment_rate_95 | unemployment_rate_96 | no_of_entrepreneurs_per_1000_inhabitants | no_of_committed_crimes_95 | no_of_committed_crimes_96 |\n",
       "+--------+-------------+---------------+--------+-------------------+-----------------------------+-------------------------------+--------------------------------+-------------------------------+--------------+----------------------------+----------------+----------------------+----------------------+------------------------------------------+---------------------------+---------------------------+\n",
       "| count  |      76     |       76      |   76   |         76        |              76             |               76              |               76               |               76              |      76      |             76             |       76       |          76          |          76          |                    76                    |             76            |             76            |\n",
       "| unique |      76     |       76      |   8    |         76        |              52             |               36              |               17               |               6               |      11      |             69             |       75       |          70          |          72          |                    44                    |             75            |             75            |\n",
       "|  mean  |   38.0000   |      nan      |  nan   |    135083.0000    |           49.0000           |            24.0000            |             6.0000             |             1.0000            |    6.0000    |          63.2276           |   9042.9737    |        3.1193        |        3.7446        |                 116.0263                 |         4850.0000         |         5079.0000         |\n",
       "|  min   |      1      |      nan      |  nan   |       45714       |              0              |               0               |               0                |               0               |      1       |            33.9            |     8110.0     |         0.29         |         0.43         |                   81.0                   |            818            |            888            |\n",
       "|  max   |      77     |      nan      |  nan   |      1204953      |             151             |               70              |               20               |               5               |      11      |           100.0            |    12541.0     |         7.34         |         9.4          |                  167.0                   |           85677           |           99107           |\n",
       "+--------+-------------+---------------+--------+-------------------+-----------------------------+-------------------------------+--------------------------------+-------------------------------+--------------+----------------------------+----------------+----------------------+----------------------+------------------------------------------+---------------------------+---------------------------+"
      ]
     },
     "execution_count": 124,
     "metadata": {},
     "output_type": "execute_result"
    }
   ],
   "source": [
    "%sqlcmd profile -t district"
   ]
  },
  {
   "cell_type": "markdown",
   "metadata": {},
   "source": [
    "### Join tables"
   ]
  },
  {
   "cell_type": "code",
   "execution_count": 128,
   "metadata": {},
   "outputs": [
    {
     "name": "stderr",
     "output_type": "stream",
     "text": [
      "RuntimeError: If using snippets, you may pass the --with argument explicitly.\n",
      "For more details please refer: https://jupysql.ploomber.io/en/latest/compose.html#with-argument\n",
      "\n",
      "\n",
      "Original error message from DB driver:\n",
      "(redshift_connector.error.ProgrammingError) {'S': 'ERROR', 'C': '42601', 'M': 'syntax error at or near \"AS\"', 'P': '45', 'F': '/home/ec2-user/padb/src/pg/src/backend/parser/parser_scan.l', 'L': '732', 'R': 'yyerror'}\n",
      "[SQL: CREATE TABLE IF NOT EXISTS account_district AS\n",
      "SELECT \n",
      "    account.account_id,\n",
      "    account.district_id,\n",
      "    account.frequency,\n",
      "    account.date,\n",
      "    district.district_name,\n",
      "    district.region,\n",
      "    district.no_of_inhabitants,\n",
      "    district.no_of_municipalities_lt_499,\n",
      "    district.no_of_municipalities_500_1999,\n",
      "    district.no_of_municipalities_2000_9999,\n",
      "    district.no_of_municipalities_gt_10000,\n",
      "    district.no_of_cities,\n",
      "    district.ratio_of_urban_inhabitants,\n",
      "    district.average_salary,\n",
      "    district.unemployment_rate_95,\n",
      "    district.unemployment_rate_96,\n",
      "    district.no_of_entrepreneurs_per_1000_inhabitants,\n",
      "    district.no_of_committed_crimes_95,\n",
      "    district.no_of_committed_crimes_96\n",
      "FROM account\n",
      "INNER JOIN district \n",
      "    ON account.district_id = district.district_id;]\n",
      "(Background on this error at: https://sqlalche.me/e/14/f405)\n",
      "\n",
      "If you need help solving this issue, send us a message: https://ploomber.io/community\n"
     ]
    }
   ],
   "source": [
    "%%sql\n",
    "CREATE TABLE IF NOT EXISTS account_district AS\n",
    "SELECT \n",
    "    account.account_id,\n",
    "    account.district_id,\n",
    "    account.frequency,\n",
    "    account.date,\n",
    "    district.district_name,\n",
    "    district.region,\n",
    "    district.no_of_inhabitants,\n",
    "    district.no_of_municipalities_lt_499,\n",
    "    district.no_of_municipalities_500_1999,\n",
    "    district.no_of_municipalities_2000_9999,\n",
    "    district.no_of_municipalities_gt_10000,\n",
    "    district.no_of_cities,\n",
    "    district.ratio_of_urban_inhabitants,\n",
    "    district.average_salary,\n",
    "    district.unemployment_rate_95,\n",
    "    district.unemployment_rate_96,\n",
    "    district.no_of_entrepreneurs_per_1000_inhabitants,\n",
    "    district.no_of_committed_crimes_95,\n",
    "    district.no_of_committed_crimes_96\n",
    "FROM account\n",
    "INNER JOIN district \n",
    "    ON account.district_id = district.district_id;\n"
   ]
  },
  {
   "cell_type": "markdown",
   "metadata": {},
   "source": [
    "### Clean up data"
   ]
  },
  {
   "cell_type": "code",
   "execution_count": 114,
   "metadata": {},
   "outputs": [
    {
     "name": "stderr",
     "output_type": "stream",
     "text": [
      "6391.48s - pydevd: Sending message related to process being replaced timed-out after 5 seconds\n"
     ]
    },
    {
     "name": "stdout",
     "output_type": "stream",
     "text": [
      "delete: s3://ploomber-redshift-data/nyc-taxi/account.csv\n"
     ]
    },
    {
     "name": "stderr",
     "output_type": "stream",
     "text": [
      "6403.46s - pydevd: Sending message related to process being replaced timed-out after 5 seconds\n"
     ]
    },
    {
     "name": "stdout",
     "output_type": "stream",
     "text": [
      "delete: s3://ploomber-redshift-data/nyc-taxi/district.csv\n"
     ]
    }
   ],
   "source": [
    "! aws s3 rm s3://ploomber-redshift-data/nyc-taxi/account.csv\n",
    "! aws s3 rm s3://ploomber-redshift-data/nyc-taxi/district.csv"
   ]
  },
  {
   "cell_type": "markdown",
   "metadata": {},
   "source": [
    "### Delete tables"
   ]
  },
  {
   "cell_type": "code",
   "execution_count": null,
   "metadata": {},
   "outputs": [],
   "source": [
    "%%sql\n",
    "DROP TABLE account;\n",
    "DROP TABLE district;"
   ]
  }
 ],
 "metadata": {
  "kernelspec": {
   "display_name": "etl-env",
   "language": "python",
   "name": "python3"
  },
  "language_info": {
   "codemirror_mode": {
    "name": "ipython",
    "version": 3
   },
   "file_extension": ".py",
   "mimetype": "text/x-python",
   "name": "python",
   "nbconvert_exporter": "python",
   "pygments_lexer": "ipython3",
   "version": "3.10.0"
  },
  "orig_nbformat": 4
 },
 "nbformat": 4,
 "nbformat_minor": 2
}
