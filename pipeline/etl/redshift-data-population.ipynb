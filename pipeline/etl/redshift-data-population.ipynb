{
 "cells": [
  {
   "cell_type": "markdown",
   "metadata": {},
   "source": [
    "## Notebook component to populate a Redshift cluster with our data"
   ]
  },
  {
   "cell_type": "code",
   "execution_count": 1,
   "metadata": {},
   "outputs": [],
   "source": [
    "from dotenv import load_dotenv\n",
    "from sqlalchemy import create_engine\n",
    "from sqlalchemy.engine import URL\n",
    "import os"
   ]
  },
  {
   "cell_type": "markdown",
   "metadata": {},
   "source": [
    "### Access credentials securely"
   ]
  },
  {
   "cell_type": "code",
   "execution_count": 2,
   "metadata": {},
   "outputs": [],
   "source": [
    "load_dotenv(\".env\")\n",
    "\n",
    "user = os.environ.get(\"REDSHIFT_USERNAME\")\n",
    "password = os.environ.get(\"REDSHIFT_PASSWORD\")\n",
    "host = os.environ.get(\"REDSHIFT_HOST\")\n",
    "iamrole = os.environ.get(\"IAM_role\")"
   ]
  },
  {
   "cell_type": "markdown",
   "metadata": {},
   "source": [
    "### Form connection string\n",
    "\n",
    "Note, this assumes we added\n",
    "\n",
    "```bash\n",
    "poetry add sqlalchemy-redshift\n",
    "\n",
    "```"
   ]
  },
  {
   "cell_type": "code",
   "execution_count": 3,
   "metadata": {},
   "outputs": [],
   "source": [
    "url = URL.create(\n",
    "    drivername=\"redshift+redshift_connector\",\n",
    "    username=user,\n",
    "    password=password,\n",
    "    host=host,\n",
    "    port=5439,\n",
    "    database=\"dev\",\n",
    ")\n",
    "\n",
    "engine = create_engine(url)"
   ]
  },
  {
   "cell_type": "markdown",
   "metadata": {},
   "source": [
    "### Load JupySQL extension"
   ]
  },
  {
   "cell_type": "code",
   "execution_count": 4,
   "metadata": {},
   "outputs": [
    {
     "data": {
      "text/html": [
       "<span style=\"None\">Found pyproject.toml from &#x27;/Users/macpro/Documents/GitHub/automate-elt-github&#x27;</span>"
      ],
      "text/plain": [
       "Found pyproject.toml from '/Users/macpro/Documents/GitHub/automate-elt-github'"
      ]
     },
     "metadata": {},
     "output_type": "display_data"
    },
    {
     "data": {
      "text/html": [
       "<span style=\"None\">Settings changed:</span>"
      ],
      "text/plain": [
       "Settings changed:"
      ]
     },
     "metadata": {},
     "output_type": "display_data"
    },
    {
     "data": {
      "text/html": [
       "\n",
       "<table>\n",
       "    <thead>\n",
       "        <tr>\n",
       "            <th>Config</th>\n",
       "            <th>value</th>\n",
       "        </tr>\n",
       "    </thead>\n",
       "    <tbody>\n",
       "        <tr>\n",
       "            <td>displaycon</td>\n",
       "            <td>False</td>\n",
       "        </tr>\n",
       "        <tr>\n",
       "            <td>feedback</td>\n",
       "            <td>True</td>\n",
       "        </tr>\n",
       "        <tr>\n",
       "            <td>autopandas</td>\n",
       "            <td>True</td>\n",
       "        </tr>\n",
       "        <tr>\n",
       "            <td>named_parameters</td>\n",
       "            <td>True</td>\n",
       "        </tr>\n",
       "    </tbody>\n",
       "</table>"
      ],
      "text/plain": [
       "\n",
       "+------------------+-------+\n",
       "|      Config      | value |\n",
       "+------------------+-------+\n",
       "|    displaycon    | False |\n",
       "|     feedback     |  True |\n",
       "|    autopandas    |  True |\n",
       "| named_parameters |  True |\n",
       "+------------------+-------+"
      ]
     },
     "metadata": {},
     "output_type": "display_data"
    }
   ],
   "source": [
    "%reload_ext sql"
   ]
  },
  {
   "cell_type": "markdown",
   "metadata": {},
   "source": [
    "### Use the engine to initialize access to our Redshift via the alias `redshift`"
   ]
  },
  {
   "cell_type": "code",
   "execution_count": 5,
   "metadata": {},
   "outputs": [],
   "source": [
    "%sql engine --alias redshift"
   ]
  },
  {
   "cell_type": "markdown",
   "metadata": {},
   "source": [
    "### Add data to S3 bucket"
   ]
  },
  {
   "cell_type": "code",
   "execution_count": 6,
   "metadata": {},
   "outputs": [
    {
     "name": "stdout",
     "output_type": "stream",
     "text": [
      "upload: expanded_data/client_account_district.parquet to s3://ploomber-redshift-data/nyc-taxi/client_account_district.parquet\n",
      "upload: expanded_data/account_trans_order.parquet to s3://ploomber-redshift-data/nyc-taxi/account_trans_order.parquet\n"
     ]
    }
   ],
   "source": [
    "! aws s3 cp expanded_data/client_account_district.parquet s3://ploomber-redshift-data/nyc-taxi/client_account_district.parquet\n",
    "! aws s3 cp expanded_data/account_trans_order.parquet s3://ploomber-redshift-data/nyc-taxi/account_trans_order.parquet"
   ]
  },
  {
   "cell_type": "markdown",
   "metadata": {},
   "source": [
    "### Create table `client_account_district` and table `account_trans_order` from data in S3 bucket\n",
    "\n",
    "Ensure you set up your access key and secret access keys!"
   ]
  },
  {
   "cell_type": "code",
   "execution_count": 7,
   "metadata": {},
   "outputs": [
    {
     "data": {
      "text/html": [
       "<div>\n",
       "<style scoped>\n",
       "    .dataframe tbody tr th:only-of-type {\n",
       "        vertical-align: middle;\n",
       "    }\n",
       "\n",
       "    .dataframe tbody tr th {\n",
       "        vertical-align: top;\n",
       "    }\n",
       "\n",
       "    .dataframe thead th {\n",
       "        text-align: right;\n",
       "    }\n",
       "</style>\n",
       "<table border=\"1\" class=\"dataframe\">\n",
       "  <thead>\n",
       "    <tr style=\"text-align: right;\">\n",
       "      <th></th>\n",
       "    </tr>\n",
       "  </thead>\n",
       "  <tbody>\n",
       "  </tbody>\n",
       "</table>\n",
       "</div>"
      ],
      "text/plain": [
       "Empty DataFrame\n",
       "Columns: []\n",
       "Index: []"
      ]
     },
     "execution_count": 7,
     "metadata": {},
     "output_type": "execute_result"
    }
   ],
   "source": [
    "%%sql\n",
    "DROP TABLE IF EXISTS account_trans_order CASCADE;\n",
    "DROP TABLE IF EXISTS client_account_district CASCADE;"
   ]
  },
  {
   "cell_type": "code",
   "execution_count": 8,
   "metadata": {},
   "outputs": [
    {
     "data": {
      "text/html": [
       "<div>\n",
       "<style scoped>\n",
       "    .dataframe tbody tr th:only-of-type {\n",
       "        vertical-align: middle;\n",
       "    }\n",
       "\n",
       "    .dataframe tbody tr th {\n",
       "        vertical-align: top;\n",
       "    }\n",
       "\n",
       "    .dataframe thead th {\n",
       "        text-align: right;\n",
       "    }\n",
       "</style>\n",
       "<table border=\"1\" class=\"dataframe\">\n",
       "  <thead>\n",
       "    <tr style=\"text-align: right;\">\n",
       "      <th></th>\n",
       "    </tr>\n",
       "  </thead>\n",
       "  <tbody>\n",
       "  </tbody>\n",
       "</table>\n",
       "</div>"
      ],
      "text/plain": [
       "Empty DataFrame\n",
       "Columns: []\n",
       "Index: []"
      ]
     },
     "execution_count": 8,
     "metadata": {},
     "output_type": "execute_result"
    }
   ],
   "source": [
    "%%sql\n",
    "CREATE TABLE IF NOT EXISTS account_trans_order\n",
    "(account_id INT,\n",
    "frequency VARCHAR(50),\n",
    "account_creation_date INT,\n",
    "trans_id INT,\n",
    "transaction_date INT,\n",
    "transaction_type VARCHAR(50),\n",
    "operation VARCHAR(50),\n",
    "transaction_amount INT,\n",
    "balance INT,\n",
    "order_id INT,\n",
    "bank_to VARCHAR(50),\n",
    "account_to INT,\n",
    "order_amount INT);\n",
    "\n",
    " COPY account_trans_order\n",
    "FROM 's3://ploomber-redshift-data/nyc-taxi/account_trans_order.parquet'\n",
    "IAM_ROLE '{{iamrole}}'\n",
    "FORMAT AS PARQUET;"
   ]
  },
  {
   "cell_type": "code",
   "execution_count": 9,
   "metadata": {},
   "outputs": [
    {
     "data": {
      "text/html": [
       "<div>\n",
       "<style scoped>\n",
       "    .dataframe tbody tr th:only-of-type {\n",
       "        vertical-align: middle;\n",
       "    }\n",
       "\n",
       "    .dataframe tbody tr th {\n",
       "        vertical-align: top;\n",
       "    }\n",
       "\n",
       "    .dataframe thead th {\n",
       "        text-align: right;\n",
       "    }\n",
       "</style>\n",
       "<table border=\"1\" class=\"dataframe\">\n",
       "  <thead>\n",
       "    <tr style=\"text-align: right;\">\n",
       "      <th></th>\n",
       "    </tr>\n",
       "  </thead>\n",
       "  <tbody>\n",
       "  </tbody>\n",
       "</table>\n",
       "</div>"
      ],
      "text/plain": [
       "Empty DataFrame\n",
       "Columns: []\n",
       "Index: []"
      ]
     },
     "execution_count": 9,
     "metadata": {},
     "output_type": "execute_result"
    }
   ],
   "source": [
    "%%sql\n",
    "CREATE TABLE IF NOT EXISTS client_account_district\n",
    "(client_id INT,\n",
    "birth_number INT,\n",
    "account_id INT,\n",
    "frequency VARCHAR(50),\n",
    "account_creation_date INT,\n",
    "district_name VARCHAR(50),\n",
    "region VARCHAR(50),\n",
    "no_of_inhabitants BIGINT,\n",
    "average_salary BIGINT,\n",
    "unemployment_rate_95 DOUBLE PRECISION,\n",
    "unemployment_rate_96 DOUBLE PRECISION,\n",
    "no_of_entrepreneurs_per_1000_inhabitants INT);\n",
    "\n",
    " \n",
    "COPY client_account_district\n",
    "FROM 's3://ploomber-redshift-data/nyc-taxi/client_account_district.parquet'\n",
    "IAM_ROLE '{{iamrole}}'\n",
    "FORMAT AS PARQUET;"
   ]
  },
  {
   "cell_type": "markdown",
   "metadata": {},
   "source": [
    "### Check for error messages"
   ]
  },
  {
   "cell_type": "code",
   "execution_count": null,
   "metadata": {},
   "outputs": [],
   "source": [
    "result = %sql  SELECT * FROM sys_load_error_detail ORDER BY start_time DESC LIMIT 10;\n",
    "\n",
    "result['error_message'].to_list()[0:10]"
   ]
  },
  {
   "cell_type": "markdown",
   "metadata": {},
   "source": [
    "## Profile the data"
   ]
  },
  {
   "cell_type": "code",
   "execution_count": 10,
   "metadata": {},
   "outputs": [
    {
     "data": {
      "text/html": [
       "<div>\n",
       "<style scoped>\n",
       "    .dataframe tbody tr th:only-of-type {\n",
       "        vertical-align: middle;\n",
       "    }\n",
       "\n",
       "    .dataframe tbody tr th {\n",
       "        vertical-align: top;\n",
       "    }\n",
       "\n",
       "    .dataframe thead th {\n",
       "        text-align: right;\n",
       "    }\n",
       "</style>\n",
       "<table border=\"1\" class=\"dataframe\">\n",
       "  <thead>\n",
       "    <tr style=\"text-align: right;\">\n",
       "      <th></th>\n",
       "      <th>client_id</th>\n",
       "      <th>birth_number</th>\n",
       "      <th>account_id</th>\n",
       "      <th>frequency</th>\n",
       "      <th>account_creation_date</th>\n",
       "      <th>district_name</th>\n",
       "      <th>region</th>\n",
       "      <th>no_of_inhabitants</th>\n",
       "      <th>average_salary</th>\n",
       "      <th>unemployment_rate_95</th>\n",
       "      <th>unemployment_rate_96</th>\n",
       "      <th>no_of_entrepreneurs_per_1000_inhabitants</th>\n",
       "    </tr>\n",
       "  </thead>\n",
       "  <tbody>\n",
       "    <tr>\n",
       "      <th>0</th>\n",
       "      <td>660</td>\n",
       "      <td>230322</td>\n",
       "      <td>3889</td>\n",
       "      <td>POPLATEK MESICNE</td>\n",
       "      <td>970703</td>\n",
       "      <td>Jindrichuv Hradec</td>\n",
       "      <td>south Bohemia</td>\n",
       "      <td>93931</td>\n",
       "      <td>8427</td>\n",
       "      <td>1.12</td>\n",
       "      <td>1.54</td>\n",
       "      <td>107</td>\n",
       "    </tr>\n",
       "    <tr>\n",
       "      <th>1</th>\n",
       "      <td>661</td>\n",
       "      <td>195115</td>\n",
       "      <td>3889</td>\n",
       "      <td>POPLATEK MESICNE</td>\n",
       "      <td>970703</td>\n",
       "      <td>Jindrichuv Hradec</td>\n",
       "      <td>south Bohemia</td>\n",
       "      <td>93931</td>\n",
       "      <td>8427</td>\n",
       "      <td>1.12</td>\n",
       "      <td>1.54</td>\n",
       "      <td>107</td>\n",
       "    </tr>\n",
       "    <tr>\n",
       "      <th>2</th>\n",
       "      <td>662</td>\n",
       "      <td>450807</td>\n",
       "      <td>2939</td>\n",
       "      <td>POPLATEK MESICNE</td>\n",
       "      <td>970628</td>\n",
       "      <td>Kolin</td>\n",
       "      <td>central Bohemia</td>\n",
       "      <td>95616</td>\n",
       "      <td>9307</td>\n",
       "      <td>3.85</td>\n",
       "      <td>4.43</td>\n",
       "      <td>118</td>\n",
       "    </tr>\n",
       "    <tr>\n",
       "      <th>3</th>\n",
       "      <td>663</td>\n",
       "      <td>230120</td>\n",
       "      <td>2539</td>\n",
       "      <td>POPLATEK MESICNE</td>\n",
       "      <td>970424</td>\n",
       "      <td>Karlovy Vary</td>\n",
       "      <td>west Bohemia</td>\n",
       "      <td>122603</td>\n",
       "      <td>8991</td>\n",
       "      <td>1.39</td>\n",
       "      <td>2.01</td>\n",
       "      <td>128</td>\n",
       "    </tr>\n",
       "    <tr>\n",
       "      <th>4</th>\n",
       "      <td>664</td>\n",
       "      <td>805319</td>\n",
       "      <td>4631</td>\n",
       "      <td>POPLATEK PO OBRATU</td>\n",
       "      <td>961212</td>\n",
       "      <td>Vsetin</td>\n",
       "      <td>north Moravia</td>\n",
       "      <td>148545</td>\n",
       "      <td>8909</td>\n",
       "      <td>4.01</td>\n",
       "      <td>5.56</td>\n",
       "      <td>113</td>\n",
       "    </tr>\n",
       "  </tbody>\n",
       "</table>\n",
       "</div>"
      ],
      "text/plain": [
       "   client_id  birth_number  account_id           frequency  \\\n",
       "0        660        230322        3889    POPLATEK MESICNE   \n",
       "1        661        195115        3889    POPLATEK MESICNE   \n",
       "2        662        450807        2939    POPLATEK MESICNE   \n",
       "3        663        230120        2539    POPLATEK MESICNE   \n",
       "4        664        805319        4631  POPLATEK PO OBRATU   \n",
       "\n",
       "   account_creation_date      district_name           region  \\\n",
       "0                 970703  Jindrichuv Hradec    south Bohemia   \n",
       "1                 970703  Jindrichuv Hradec    south Bohemia   \n",
       "2                 970628              Kolin  central Bohemia   \n",
       "3                 970424       Karlovy Vary     west Bohemia   \n",
       "4                 961212             Vsetin    north Moravia   \n",
       "\n",
       "   no_of_inhabitants  average_salary  unemployment_rate_95  \\\n",
       "0              93931            8427                  1.12   \n",
       "1              93931            8427                  1.12   \n",
       "2              95616            9307                  3.85   \n",
       "3             122603            8991                  1.39   \n",
       "4             148545            8909                  4.01   \n",
       "\n",
       "   unemployment_rate_96  no_of_entrepreneurs_per_1000_inhabitants  \n",
       "0                  1.54                                       107  \n",
       "1                  1.54                                       107  \n",
       "2                  4.43                                       118  \n",
       "3                  2.01                                       128  \n",
       "4                  5.56                                       113  "
      ]
     },
     "execution_count": 10,
     "metadata": {},
     "output_type": "execute_result"
    }
   ],
   "source": [
    "%%sql\n",
    "SELECT * FROM client_account_district LIMIT 5"
   ]
  },
  {
   "cell_type": "code",
   "execution_count": null,
   "metadata": {},
   "outputs": [],
   "source": [
    "%%sql\n",
    "SELECT * FROM account_trans_order LIMIT 5"
   ]
  },
  {
   "cell_type": "code",
   "execution_count": 11,
   "metadata": {},
   "outputs": [
    {
     "data": {
      "text/html": [
       "<div style='position: sticky; left: 0; padding: 10px; font-size: 12px; color: #FFA500'><strong></strong> Following statistics are not available in\n",
       "            redshift_connector: STD, 25%, 50%, 75%</div><style>\n",
       " #profile-table td:first-child {\n",
       "  position: sticky;\n",
       "  left: 0;\n",
       "  background-color: var(--jp-cell-editor-background);\n",
       "  font-weight: bold;\n",
       "}\n",
       " #profile-table thead tr th:first-child {\n",
       "  position: sticky;\n",
       "  left: 0;\n",
       "  background-color: var(--jp-cell-editor-background);\n",
       "  font-weight: bold; /* Adding bold text */\n",
       "}\n",
       "            </style><style></style><table id=\"profile-table-ed8b779198ce4262893d9273f36c4f2d\">\n",
       "    <thead>\n",
       "        <tr>\n",
       "            <th> </th>\n",
       "            <th>client_id</th>\n",
       "            <th>birth_number</th>\n",
       "            <th>account_id</th>\n",
       "            <th>frequency</th>\n",
       "            <th>account_creation_date</th>\n",
       "            <th>district_name</th>\n",
       "            <th>region</th>\n",
       "            <th>no_of_inhabitants</th>\n",
       "            <th>average_salary</th>\n",
       "            <th>unemployment_rate_95</th>\n",
       "            <th>unemployment_rate_96</th>\n",
       "            <th>no_of_entrepreneurs_per_1000_inhabitants</th>\n",
       "        </tr>\n",
       "    </thead>\n",
       "    <tbody>\n",
       "        <tr>\n",
       "            <td>count</td>\n",
       "            <td>645633</td>\n",
       "            <td>645633</td>\n",
       "            <td>645633</td>\n",
       "            <td>645633</td>\n",
       "            <td>645633</td>\n",
       "            <td>645633</td>\n",
       "            <td>645633</td>\n",
       "            <td>645633</td>\n",
       "            <td>645633</td>\n",
       "            <td>645633</td>\n",
       "            <td>645633</td>\n",
       "            <td>645633</td>\n",
       "        </tr>\n",
       "        <tr>\n",
       "            <td>unique</td>\n",
       "            <td>5308</td>\n",
       "            <td>4968</td>\n",
       "            <td>4452</td>\n",
       "            <td>3</td>\n",
       "            <td>1532</td>\n",
       "            <td>76</td>\n",
       "            <td>8</td>\n",
       "            <td>76</td>\n",
       "            <td>75</td>\n",
       "            <td>70</td>\n",
       "            <td>72</td>\n",
       "            <td>44</td>\n",
       "        </tr>\n",
       "        <tr>\n",
       "            <td>mean</td>\n",
       "            <td>3385.0000</td>\n",
       "            <td>534775.0000</td>\n",
       "            <td>2894.0000</td>\n",
       "            <td>nan</td>\n",
       "            <td>951531.0000</td>\n",
       "            <td>nan</td>\n",
       "            <td>nan</td>\n",
       "            <td>760299.0000</td>\n",
       "            <td>11146.0000</td>\n",
       "            <td>1.6496</td>\n",
       "            <td>2.0206</td>\n",
       "            <td>143.0000</td>\n",
       "        </tr>\n",
       "        <tr>\n",
       "            <td>min</td>\n",
       "            <td>1</td>\n",
       "            <td>110820</td>\n",
       "            <td>1</td>\n",
       "            <td>nan</td>\n",
       "            <td>930101</td>\n",
       "            <td>nan</td>\n",
       "            <td>nan</td>\n",
       "            <td>45714</td>\n",
       "            <td>8110</td>\n",
       "            <td>0.29</td>\n",
       "            <td>0.43</td>\n",
       "            <td>81</td>\n",
       "        </tr>\n",
       "        <tr>\n",
       "            <td>max</td>\n",
       "            <td>13998</td>\n",
       "            <td>875927</td>\n",
       "            <td>11382</td>\n",
       "            <td>nan</td>\n",
       "            <td>971229</td>\n",
       "            <td>nan</td>\n",
       "            <td>nan</td>\n",
       "            <td>1204953</td>\n",
       "            <td>12541</td>\n",
       "            <td>7.34</td>\n",
       "            <td>9.4</td>\n",
       "            <td>167</td>\n",
       "        </tr>\n",
       "    </tbody>\n",
       "</table><div style='position: sticky; left: 0; padding: 10px; font-size: 12px; color: black; background-color: white;'><strong></strong> </div>"
      ],
      "text/plain": [
       "+--------+-----------+--------------+------------+-----------+-----------------------+---------------+--------+-------------------+----------------+----------------------+----------------------+------------------------------------------+\n",
       "|        | client_id | birth_number | account_id | frequency | account_creation_date | district_name | region | no_of_inhabitants | average_salary | unemployment_rate_95 | unemployment_rate_96 | no_of_entrepreneurs_per_1000_inhabitants |\n",
       "+--------+-----------+--------------+------------+-----------+-----------------------+---------------+--------+-------------------+----------------+----------------------+----------------------+------------------------------------------+\n",
       "| count  |   645633  |    645633    |   645633   |   645633  |         645633        |     645633    | 645633 |       645633      |     645633     |        645633        |        645633        |                  645633                  |\n",
       "| unique |    5308   |     4968     |    4452    |     3     |          1532         |       76      |   8    |         76        |       75       |          70          |          72          |                    44                    |\n",
       "|  mean  | 3385.0000 | 534775.0000  | 2894.0000  |    nan    |      951531.0000      |      nan      |  nan   |    760299.0000    |   11146.0000   |        1.6496        |        2.0206        |                 143.0000                 |\n",
       "|  min   |     1     |    110820    |     1      |    nan    |         930101        |      nan      |  nan   |       45714       |      8110      |         0.29         |         0.43         |                    81                    |\n",
       "|  max   |   13998   |    875927    |   11382    |    nan    |         971229        |      nan      |  nan   |      1204953      |     12541      |         7.34         |         9.4          |                   167                    |\n",
       "+--------+-----------+--------------+------------+-----------+-----------------------+---------------+--------+-------------------+----------------+----------------------+----------------------+------------------------------------------+"
      ]
     },
     "execution_count": 11,
     "metadata": {},
     "output_type": "execute_result"
    }
   ],
   "source": [
    "%sqlcmd profile -t client_account_district"
   ]
  },
  {
   "cell_type": "code",
   "execution_count": 12,
   "metadata": {},
   "outputs": [
    {
     "data": {
      "text/html": [
       "<div style='position: sticky; left: 0; padding: 10px; font-size: 12px; color: #FFA500'><strong></strong> Following statistics are not available in\n",
       "            redshift_connector: STD, 25%, 50%, 75%</div><style>\n",
       " #profile-table td:first-child {\n",
       "  position: sticky;\n",
       "  left: 0;\n",
       "  background-color: var(--jp-cell-editor-background);\n",
       "  font-weight: bold;\n",
       "}\n",
       " #profile-table thead tr th:first-child {\n",
       "  position: sticky;\n",
       "  left: 0;\n",
       "  background-color: var(--jp-cell-editor-background);\n",
       "  font-weight: bold; /* Adding bold text */\n",
       "}\n",
       "            </style><style></style><table id=\"profile-table-122e82959b4a49abb4fdf81d7ef1682e\">\n",
       "    <thead>\n",
       "        <tr>\n",
       "            <th> </th>\n",
       "            <th>account_id</th>\n",
       "            <th>frequency</th>\n",
       "            <th>account_creation_date</th>\n",
       "            <th>trans_id</th>\n",
       "            <th>transaction_date</th>\n",
       "            <th>transaction_type</th>\n",
       "            <th>operation</th>\n",
       "            <th>transaction_amount</th>\n",
       "            <th>balance</th>\n",
       "            <th>order_id</th>\n",
       "            <th>bank_to</th>\n",
       "            <th>account_to</th>\n",
       "            <th>order_amount</th>\n",
       "        </tr>\n",
       "    </thead>\n",
       "    <tbody>\n",
       "        <tr>\n",
       "            <td>count</td>\n",
       "            <td>1715140</td>\n",
       "            <td>1715140</td>\n",
       "            <td>1715140</td>\n",
       "            <td>1715140</td>\n",
       "            <td>1715140</td>\n",
       "            <td>1715140</td>\n",
       "            <td>1448066</td>\n",
       "            <td>1715140</td>\n",
       "            <td>1715140</td>\n",
       "            <td>1715140</td>\n",
       "            <td>1715140</td>\n",
       "            <td>1715140</td>\n",
       "            <td>1715140</td>\n",
       "        </tr>\n",
       "        <tr>\n",
       "            <td>unique</td>\n",
       "            <td>3758</td>\n",
       "            <td>3</td>\n",
       "            <td>1468</td>\n",
       "            <td>913010</td>\n",
       "            <td>2191</td>\n",
       "            <td>3</td>\n",
       "            <td>5</td>\n",
       "            <td>31786</td>\n",
       "            <td>104530</td>\n",
       "            <td>6471</td>\n",
       "            <td>13</td>\n",
       "            <td>6446</td>\n",
       "            <td>4243</td>\n",
       "        </tr>\n",
       "        <tr>\n",
       "            <td>mean</td>\n",
       "            <td>3094.0000</td>\n",
       "            <td>nan</td>\n",
       "            <td>944777.0000</td>\n",
       "            <td>1331562.0000</td>\n",
       "            <td>965826.0000</td>\n",
       "            <td>nan</td>\n",
       "            <td>nan</td>\n",
       "            <td>5635.0000</td>\n",
       "            <td>38774.0000</td>\n",
       "            <td>33974.0000</td>\n",
       "            <td>nan</td>\n",
       "            <td>49244253.0000</td>\n",
       "            <td>3164.0000</td>\n",
       "        </tr>\n",
       "        <tr>\n",
       "            <td>min</td>\n",
       "            <td>1</td>\n",
       "            <td>nan</td>\n",
       "            <td>930101</td>\n",
       "            <td>1</td>\n",
       "            <td>930101</td>\n",
       "            <td>nan</td>\n",
       "            <td>nan</td>\n",
       "            <td>0</td>\n",
       "            <td>-35456</td>\n",
       "            <td>29401</td>\n",
       "            <td>nan</td>\n",
       "            <td>399</td>\n",
       "            <td>1</td>\n",
       "        </tr>\n",
       "        <tr>\n",
       "            <td>max</td>\n",
       "            <td>11362</td>\n",
       "            <td>nan</td>\n",
       "            <td>971229</td>\n",
       "            <td>3682987</td>\n",
       "            <td>981231</td>\n",
       "            <td>nan</td>\n",
       "            <td>nan</td>\n",
       "            <td>87400</td>\n",
       "            <td>209637</td>\n",
       "            <td>46338</td>\n",
       "            <td>nan</td>\n",
       "            <td>99994199</td>\n",
       "            <td>14882</td>\n",
       "        </tr>\n",
       "    </tbody>\n",
       "</table><div style='position: sticky; left: 0; padding: 10px; font-size: 12px; color: black; background-color: white;'><strong></strong> </div>"
      ],
      "text/plain": [
       "+--------+------------+-----------+-----------------------+--------------+------------------+------------------+-----------+--------------------+------------+------------+---------+---------------+--------------+\n",
       "|        | account_id | frequency | account_creation_date |   trans_id   | transaction_date | transaction_type | operation | transaction_amount |  balance   |  order_id  | bank_to |   account_to  | order_amount |\n",
       "+--------+------------+-----------+-----------------------+--------------+------------------+------------------+-----------+--------------------+------------+------------+---------+---------------+--------------+\n",
       "| count  |  1715140   |  1715140  |        1715140        |   1715140    |     1715140      |     1715140      |  1448066  |      1715140       |  1715140   |  1715140   | 1715140 |    1715140    |   1715140    |\n",
       "| unique |    3758    |     3     |          1468         |    913010    |       2191       |        3         |     5     |       31786        |   104530   |    6471    |    13   |      6446     |     4243     |\n",
       "|  mean  | 3094.0000  |    nan    |      944777.0000      | 1331562.0000 |   965826.0000    |       nan        |    nan    |     5635.0000      | 38774.0000 | 33974.0000 |   nan   | 49244253.0000 |  3164.0000   |\n",
       "|  min   |     1      |    nan    |         930101        |      1       |      930101      |       nan        |    nan    |         0          |   -35456   |   29401    |   nan   |      399      |      1       |\n",
       "|  max   |   11362    |    nan    |         971229        |   3682987    |      981231      |       nan        |    nan    |       87400        |   209637   |   46338    |   nan   |    99994199   |    14882     |\n",
       "+--------+------------+-----------+-----------------------+--------------+------------------+------------------+-----------+--------------------+------------+------------+---------+---------------+--------------+"
      ]
     },
     "execution_count": 12,
     "metadata": {},
     "output_type": "execute_result"
    }
   ],
   "source": [
    "%sqlcmd profile -t account_trans_order"
   ]
  },
  {
   "cell_type": "markdown",
   "metadata": {},
   "source": [
    "### Clean up data"
   ]
  },
  {
   "cell_type": "code",
   "execution_count": 13,
   "metadata": {},
   "outputs": [],
   "source": [
    "! aws s3 rm s3://ploomber-redshift-data/nyc-taxi/client_account_district.parquet\n",
    "! aws s3 rm s3://ploomber-redshift-data/nyc-taxi/account_trans_order.parquet"
   ]
  },
  {
   "cell_type": "markdown",
   "metadata": {},
   "source": [
    "### Delete tables"
   ]
  },
  {
   "cell_type": "code",
   "execution_count": null,
   "metadata": {},
   "outputs": [],
   "source": [
    "%%sql\n",
    "DROP TABLE client_account_district;\n",
    "DROP TABLE account_trans_order;"
   ]
  },
  {
   "cell_type": "code",
   "execution_count": null,
   "metadata": {},
   "outputs": [],
   "source": []
  }
 ],
 "metadata": {
  "kernelspec": {
   "display_name": "etl-env",
   "language": "python",
   "name": "python3"
  },
  "language_info": {
   "codemirror_mode": {
    "name": "ipython",
    "version": 3
   },
   "file_extension": ".py",
   "mimetype": "text/x-python",
   "name": "python",
   "nbconvert_exporter": "python",
   "pygments_lexer": "ipython3",
   "version": "3.10.0"
  },
  "orig_nbformat": 4
 },
 "nbformat": 4,
 "nbformat_minor": 2
}
